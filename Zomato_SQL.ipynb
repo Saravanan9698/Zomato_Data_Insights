{
 "cells": [
  {
   "cell_type": "code",
   "execution_count": 1,
   "metadata": {},
   "outputs": [
    {
     "name": "stdout",
     "output_type": "stream",
     "text": [
      "<pymysql.connections.Connection object at 0x000002189410C690>\n"
     ]
    }
   ],
   "source": [
    "import pymysql\n",
    "con= pymysql.connect(\n",
    "    host=\"localhost\",\n",
    "    user=\"root\",\n",
    "    password=\"123456789\",\n",
    "    autocommit=True\n",
    "    )\n",
    "print(con)"
   ]
  },
  {
   "cell_type": "code",
   "execution_count": 2,
   "metadata": {},
   "outputs": [],
   "source": [
    "# Read the CSV files into pandas dataframes\n",
    "\n",
    "import pandas as pd\n",
    "\n",
    "df1 = pd.read_csv('customers.csv')\n",
    "df2 = pd.read_csv('restaurants.csv')\n",
    "df3 = pd.read_csv('orders.csv')\n",
    "df4 = pd.read_csv('deliveries.csv')"
   ]
  },
  {
   "cell_type": "code",
   "execution_count": 3,
   "metadata": {},
   "outputs": [],
   "source": [
    "mycursor = con.cursor()"
   ]
  },
  {
   "cell_type": "code",
   "execution_count": 4,
   "metadata": {},
   "outputs": [
    {
     "name": "stdout",
     "output_type": "stream",
     "text": [
      "Index(['customer_id', 'name', 'email', 'phone', 'address', 'signup_date',\n",
      "       'is_premium', 'preferred_cuisine', 'total_orders', 'average_rating'],\n",
      "      dtype='object')\n"
     ]
    }
   ],
   "source": [
    "print(df1.columns)"
   ]
  },
  {
   "cell_type": "code",
   "execution_count": 5,
   "metadata": {},
   "outputs": [
    {
     "name": "stdout",
     "output_type": "stream",
     "text": [
      "10\n"
     ]
    }
   ],
   "source": [
    "print(len(df1.columns))"
   ]
  },
  {
   "cell_type": "code",
   "execution_count": 6,
   "metadata": {},
   "outputs": [
    {
     "name": "stdout",
     "output_type": "stream",
     "text": [
      "Index(['restaurant_id', 'name', 'cuisine_type', 'location', 'owner_name',\n",
      "       'average_delivery_time', 'contact_number', 'rating', 'total_orders',\n",
      "       'is_active'],\n",
      "      dtype='object')\n"
     ]
    }
   ],
   "source": [
    "print(df2.columns)"
   ]
  },
  {
   "cell_type": "code",
   "execution_count": 7,
   "metadata": {},
   "outputs": [
    {
     "name": "stdout",
     "output_type": "stream",
     "text": [
      "10\n"
     ]
    }
   ],
   "source": [
    "print(len(df2.columns))"
   ]
  },
  {
   "cell_type": "code",
   "execution_count": 8,
   "metadata": {},
   "outputs": [
    {
     "data": {
      "text/plain": [
       "0"
      ]
     },
     "execution_count": 8,
     "metadata": {},
     "output_type": "execute_result"
    }
   ],
   "source": [
    "mycursor.execute(\"USE ZOMATO_DB\")"
   ]
  },
  {
   "cell_type": "code",
   "execution_count": 9,
   "metadata": {},
   "outputs": [
    {
     "ename": "IntegrityError",
     "evalue": "(1062, \"Duplicate entry '1' for key 'customers.PRIMARY'\")",
     "output_type": "error",
     "traceback": [
      "\u001b[1;31m---------------------------------------------------------------------------\u001b[0m",
      "\u001b[1;31mIntegrityError\u001b[0m                            Traceback (most recent call last)",
      "Cell \u001b[1;32mIn[9], line 6\u001b[0m\n\u001b[0;32m      1\u001b[0m insert_query \u001b[38;5;241m=\u001b[39m \u001b[38;5;124m\"\"\"\u001b[39m\n\u001b[0;32m      2\u001b[0m \u001b[38;5;124m    INSERT INTO customers (customer_id, name, email, phone, address, signup_date, is_premium, preferred_cuisine, total_orders, average_rating)\u001b[39m\n\u001b[0;32m      3\u001b[0m \u001b[38;5;124m    VALUES (\u001b[39m\u001b[38;5;132;01m%s\u001b[39;00m\u001b[38;5;124m, \u001b[39m\u001b[38;5;132;01m%s\u001b[39;00m\u001b[38;5;124m, \u001b[39m\u001b[38;5;132;01m%s\u001b[39;00m\u001b[38;5;124m, \u001b[39m\u001b[38;5;132;01m%s\u001b[39;00m\u001b[38;5;124m, \u001b[39m\u001b[38;5;132;01m%s\u001b[39;00m\u001b[38;5;124m, \u001b[39m\u001b[38;5;132;01m%s\u001b[39;00m\u001b[38;5;124m, \u001b[39m\u001b[38;5;132;01m%s\u001b[39;00m\u001b[38;5;124m, \u001b[39m\u001b[38;5;132;01m%s\u001b[39;00m\u001b[38;5;124m, \u001b[39m\u001b[38;5;132;01m%s\u001b[39;00m\u001b[38;5;124m, \u001b[39m\u001b[38;5;132;01m%s\u001b[39;00m\u001b[38;5;124m)\u001b[39m\n\u001b[0;32m      4\u001b[0m \u001b[38;5;124m\"\"\"\u001b[39m\n\u001b[0;32m      5\u001b[0m \u001b[38;5;28;01mfor\u001b[39;00m index, row \u001b[38;5;129;01min\u001b[39;00m df1\u001b[38;5;241m.\u001b[39miterrows():\n\u001b[1;32m----> 6\u001b[0m     \u001b[43mmycursor\u001b[49m\u001b[38;5;241;43m.\u001b[39;49m\u001b[43mexecute\u001b[49m\u001b[43m(\u001b[49m\u001b[43minsert_query\u001b[49m\u001b[43m,\u001b[49m\u001b[43m(\u001b[49m\n\u001b[0;32m      7\u001b[0m \u001b[43m        \u001b[49m\u001b[43mrow\u001b[49m\u001b[43m[\u001b[49m\u001b[38;5;124;43m'\u001b[39;49m\u001b[38;5;124;43mcustomer_id\u001b[39;49m\u001b[38;5;124;43m'\u001b[39;49m\u001b[43m]\u001b[49m\u001b[43m,\u001b[49m\n\u001b[0;32m      8\u001b[0m \u001b[43m        \u001b[49m\u001b[43mrow\u001b[49m\u001b[43m[\u001b[49m\u001b[38;5;124;43m'\u001b[39;49m\u001b[38;5;124;43mname\u001b[39;49m\u001b[38;5;124;43m'\u001b[39;49m\u001b[43m]\u001b[49m\u001b[43m,\u001b[49m\n\u001b[0;32m      9\u001b[0m \u001b[43m        \u001b[49m\u001b[43mrow\u001b[49m\u001b[43m[\u001b[49m\u001b[38;5;124;43m'\u001b[39;49m\u001b[38;5;124;43memail\u001b[39;49m\u001b[38;5;124;43m'\u001b[39;49m\u001b[43m]\u001b[49m\u001b[43m,\u001b[49m\n\u001b[0;32m     10\u001b[0m \u001b[43m        \u001b[49m\u001b[43mrow\u001b[49m\u001b[43m[\u001b[49m\u001b[38;5;124;43m'\u001b[39;49m\u001b[38;5;124;43mphone\u001b[39;49m\u001b[38;5;124;43m'\u001b[39;49m\u001b[43m]\u001b[49m\u001b[43m,\u001b[49m\n\u001b[0;32m     11\u001b[0m \u001b[43m        \u001b[49m\u001b[43mrow\u001b[49m\u001b[43m[\u001b[49m\u001b[38;5;124;43m'\u001b[39;49m\u001b[38;5;124;43maddress\u001b[39;49m\u001b[38;5;124;43m'\u001b[39;49m\u001b[43m]\u001b[49m\u001b[43m,\u001b[49m\n\u001b[0;32m     12\u001b[0m \u001b[43m        \u001b[49m\u001b[43mrow\u001b[49m\u001b[43m[\u001b[49m\u001b[38;5;124;43m'\u001b[39;49m\u001b[38;5;124;43msignup_date\u001b[39;49m\u001b[38;5;124;43m'\u001b[39;49m\u001b[43m]\u001b[49m\u001b[43m,\u001b[49m\n\u001b[0;32m     13\u001b[0m \u001b[43m        \u001b[49m\u001b[43mrow\u001b[49m\u001b[43m[\u001b[49m\u001b[38;5;124;43m'\u001b[39;49m\u001b[38;5;124;43mis_premium\u001b[39;49m\u001b[38;5;124;43m'\u001b[39;49m\u001b[43m]\u001b[49m\u001b[43m,\u001b[49m\n\u001b[0;32m     14\u001b[0m \u001b[43m        \u001b[49m\u001b[43mrow\u001b[49m\u001b[43m[\u001b[49m\u001b[38;5;124;43m'\u001b[39;49m\u001b[38;5;124;43mpreferred_cuisine\u001b[39;49m\u001b[38;5;124;43m'\u001b[39;49m\u001b[43m]\u001b[49m\u001b[43m,\u001b[49m\n\u001b[0;32m     15\u001b[0m \u001b[43m        \u001b[49m\u001b[43mrow\u001b[49m\u001b[43m[\u001b[49m\u001b[38;5;124;43m'\u001b[39;49m\u001b[38;5;124;43mtotal_orders\u001b[39;49m\u001b[38;5;124;43m'\u001b[39;49m\u001b[43m]\u001b[49m\u001b[43m,\u001b[49m\n\u001b[0;32m     16\u001b[0m \u001b[43m        \u001b[49m\u001b[43mrow\u001b[49m\u001b[43m[\u001b[49m\u001b[38;5;124;43m'\u001b[39;49m\u001b[38;5;124;43maverage_rating\u001b[39;49m\u001b[38;5;124;43m'\u001b[39;49m\u001b[43m]\u001b[49m\u001b[43m,\u001b[49m\n\u001b[0;32m     17\u001b[0m \u001b[43m    \u001b[49m\n\u001b[0;32m     18\u001b[0m \u001b[43m        \u001b[49m\u001b[43m)\u001b[49m\u001b[43m)\u001b[49m\n",
      "File \u001b[1;32mc:\\Users\\sarav\\AppData\\Local\\Programs\\Python\\Python311\\Lib\\site-packages\\pymysql\\cursors.py:153\u001b[0m, in \u001b[0;36mCursor.execute\u001b[1;34m(self, query, args)\u001b[0m\n\u001b[0;32m    149\u001b[0m     \u001b[38;5;28;01mpass\u001b[39;00m\n\u001b[0;32m    151\u001b[0m query \u001b[38;5;241m=\u001b[39m \u001b[38;5;28mself\u001b[39m\u001b[38;5;241m.\u001b[39mmogrify(query, args)\n\u001b[1;32m--> 153\u001b[0m result \u001b[38;5;241m=\u001b[39m \u001b[38;5;28;43mself\u001b[39;49m\u001b[38;5;241;43m.\u001b[39;49m\u001b[43m_query\u001b[49m\u001b[43m(\u001b[49m\u001b[43mquery\u001b[49m\u001b[43m)\u001b[49m\n\u001b[0;32m    154\u001b[0m \u001b[38;5;28mself\u001b[39m\u001b[38;5;241m.\u001b[39m_executed \u001b[38;5;241m=\u001b[39m query\n\u001b[0;32m    155\u001b[0m \u001b[38;5;28;01mreturn\u001b[39;00m result\n",
      "File \u001b[1;32mc:\\Users\\sarav\\AppData\\Local\\Programs\\Python\\Python311\\Lib\\site-packages\\pymysql\\cursors.py:322\u001b[0m, in \u001b[0;36mCursor._query\u001b[1;34m(self, q)\u001b[0m\n\u001b[0;32m    320\u001b[0m conn \u001b[38;5;241m=\u001b[39m \u001b[38;5;28mself\u001b[39m\u001b[38;5;241m.\u001b[39m_get_db()\n\u001b[0;32m    321\u001b[0m \u001b[38;5;28mself\u001b[39m\u001b[38;5;241m.\u001b[39m_clear_result()\n\u001b[1;32m--> 322\u001b[0m \u001b[43mconn\u001b[49m\u001b[38;5;241;43m.\u001b[39;49m\u001b[43mquery\u001b[49m\u001b[43m(\u001b[49m\u001b[43mq\u001b[49m\u001b[43m)\u001b[49m\n\u001b[0;32m    323\u001b[0m \u001b[38;5;28mself\u001b[39m\u001b[38;5;241m.\u001b[39m_do_get_result()\n\u001b[0;32m    324\u001b[0m \u001b[38;5;28;01mreturn\u001b[39;00m \u001b[38;5;28mself\u001b[39m\u001b[38;5;241m.\u001b[39mrowcount\n",
      "File \u001b[1;32mc:\\Users\\sarav\\AppData\\Local\\Programs\\Python\\Python311\\Lib\\site-packages\\pymysql\\connections.py:563\u001b[0m, in \u001b[0;36mConnection.query\u001b[1;34m(self, sql, unbuffered)\u001b[0m\n\u001b[0;32m    561\u001b[0m     sql \u001b[38;5;241m=\u001b[39m sql\u001b[38;5;241m.\u001b[39mencode(\u001b[38;5;28mself\u001b[39m\u001b[38;5;241m.\u001b[39mencoding, \u001b[38;5;124m\"\u001b[39m\u001b[38;5;124msurrogateescape\u001b[39m\u001b[38;5;124m\"\u001b[39m)\n\u001b[0;32m    562\u001b[0m \u001b[38;5;28mself\u001b[39m\u001b[38;5;241m.\u001b[39m_execute_command(COMMAND\u001b[38;5;241m.\u001b[39mCOM_QUERY, sql)\n\u001b[1;32m--> 563\u001b[0m \u001b[38;5;28mself\u001b[39m\u001b[38;5;241m.\u001b[39m_affected_rows \u001b[38;5;241m=\u001b[39m \u001b[38;5;28;43mself\u001b[39;49m\u001b[38;5;241;43m.\u001b[39;49m\u001b[43m_read_query_result\u001b[49m\u001b[43m(\u001b[49m\u001b[43munbuffered\u001b[49m\u001b[38;5;241;43m=\u001b[39;49m\u001b[43munbuffered\u001b[49m\u001b[43m)\u001b[49m\n\u001b[0;32m    564\u001b[0m \u001b[38;5;28;01mreturn\u001b[39;00m \u001b[38;5;28mself\u001b[39m\u001b[38;5;241m.\u001b[39m_affected_rows\n",
      "File \u001b[1;32mc:\\Users\\sarav\\AppData\\Local\\Programs\\Python\\Python311\\Lib\\site-packages\\pymysql\\connections.py:825\u001b[0m, in \u001b[0;36mConnection._read_query_result\u001b[1;34m(self, unbuffered)\u001b[0m\n\u001b[0;32m    823\u001b[0m \u001b[38;5;28;01melse\u001b[39;00m:\n\u001b[0;32m    824\u001b[0m     result \u001b[38;5;241m=\u001b[39m MySQLResult(\u001b[38;5;28mself\u001b[39m)\n\u001b[1;32m--> 825\u001b[0m     \u001b[43mresult\u001b[49m\u001b[38;5;241;43m.\u001b[39;49m\u001b[43mread\u001b[49m\u001b[43m(\u001b[49m\u001b[43m)\u001b[49m\n\u001b[0;32m    826\u001b[0m \u001b[38;5;28mself\u001b[39m\u001b[38;5;241m.\u001b[39m_result \u001b[38;5;241m=\u001b[39m result\n\u001b[0;32m    827\u001b[0m \u001b[38;5;28;01mif\u001b[39;00m result\u001b[38;5;241m.\u001b[39mserver_status \u001b[38;5;129;01mis\u001b[39;00m \u001b[38;5;129;01mnot\u001b[39;00m \u001b[38;5;28;01mNone\u001b[39;00m:\n",
      "File \u001b[1;32mc:\\Users\\sarav\\AppData\\Local\\Programs\\Python\\Python311\\Lib\\site-packages\\pymysql\\connections.py:1199\u001b[0m, in \u001b[0;36mMySQLResult.read\u001b[1;34m(self)\u001b[0m\n\u001b[0;32m   1197\u001b[0m \u001b[38;5;28;01mdef\u001b[39;00m \u001b[38;5;21mread\u001b[39m(\u001b[38;5;28mself\u001b[39m):\n\u001b[0;32m   1198\u001b[0m     \u001b[38;5;28;01mtry\u001b[39;00m:\n\u001b[1;32m-> 1199\u001b[0m         first_packet \u001b[38;5;241m=\u001b[39m \u001b[38;5;28;43mself\u001b[39;49m\u001b[38;5;241;43m.\u001b[39;49m\u001b[43mconnection\u001b[49m\u001b[38;5;241;43m.\u001b[39;49m\u001b[43m_read_packet\u001b[49m\u001b[43m(\u001b[49m\u001b[43m)\u001b[49m\n\u001b[0;32m   1201\u001b[0m         \u001b[38;5;28;01mif\u001b[39;00m first_packet\u001b[38;5;241m.\u001b[39mis_ok_packet():\n\u001b[0;32m   1202\u001b[0m             \u001b[38;5;28mself\u001b[39m\u001b[38;5;241m.\u001b[39m_read_ok_packet(first_packet)\n",
      "File \u001b[1;32mc:\\Users\\sarav\\AppData\\Local\\Programs\\Python\\Python311\\Lib\\site-packages\\pymysql\\connections.py:775\u001b[0m, in \u001b[0;36mConnection._read_packet\u001b[1;34m(self, packet_type)\u001b[0m\n\u001b[0;32m    773\u001b[0m     \u001b[38;5;28;01mif\u001b[39;00m \u001b[38;5;28mself\u001b[39m\u001b[38;5;241m.\u001b[39m_result \u001b[38;5;129;01mis\u001b[39;00m \u001b[38;5;129;01mnot\u001b[39;00m \u001b[38;5;28;01mNone\u001b[39;00m \u001b[38;5;129;01mand\u001b[39;00m \u001b[38;5;28mself\u001b[39m\u001b[38;5;241m.\u001b[39m_result\u001b[38;5;241m.\u001b[39munbuffered_active \u001b[38;5;129;01mis\u001b[39;00m \u001b[38;5;28;01mTrue\u001b[39;00m:\n\u001b[0;32m    774\u001b[0m         \u001b[38;5;28mself\u001b[39m\u001b[38;5;241m.\u001b[39m_result\u001b[38;5;241m.\u001b[39munbuffered_active \u001b[38;5;241m=\u001b[39m \u001b[38;5;28;01mFalse\u001b[39;00m\n\u001b[1;32m--> 775\u001b[0m     \u001b[43mpacket\u001b[49m\u001b[38;5;241;43m.\u001b[39;49m\u001b[43mraise_for_error\u001b[49m\u001b[43m(\u001b[49m\u001b[43m)\u001b[49m\n\u001b[0;32m    776\u001b[0m \u001b[38;5;28;01mreturn\u001b[39;00m packet\n",
      "File \u001b[1;32mc:\\Users\\sarav\\AppData\\Local\\Programs\\Python\\Python311\\Lib\\site-packages\\pymysql\\protocol.py:219\u001b[0m, in \u001b[0;36mMysqlPacket.raise_for_error\u001b[1;34m(self)\u001b[0m\n\u001b[0;32m    217\u001b[0m \u001b[38;5;28;01mif\u001b[39;00m DEBUG:\n\u001b[0;32m    218\u001b[0m     \u001b[38;5;28mprint\u001b[39m(\u001b[38;5;124m\"\u001b[39m\u001b[38;5;124merrno =\u001b[39m\u001b[38;5;124m\"\u001b[39m, errno)\n\u001b[1;32m--> 219\u001b[0m \u001b[43merr\u001b[49m\u001b[38;5;241;43m.\u001b[39;49m\u001b[43mraise_mysql_exception\u001b[49m\u001b[43m(\u001b[49m\u001b[38;5;28;43mself\u001b[39;49m\u001b[38;5;241;43m.\u001b[39;49m\u001b[43m_data\u001b[49m\u001b[43m)\u001b[49m\n",
      "File \u001b[1;32mc:\\Users\\sarav\\AppData\\Local\\Programs\\Python\\Python311\\Lib\\site-packages\\pymysql\\err.py:150\u001b[0m, in \u001b[0;36mraise_mysql_exception\u001b[1;34m(data)\u001b[0m\n\u001b[0;32m    148\u001b[0m \u001b[38;5;28;01mif\u001b[39;00m errorclass \u001b[38;5;129;01mis\u001b[39;00m \u001b[38;5;28;01mNone\u001b[39;00m:\n\u001b[0;32m    149\u001b[0m     errorclass \u001b[38;5;241m=\u001b[39m InternalError \u001b[38;5;28;01mif\u001b[39;00m errno \u001b[38;5;241m<\u001b[39m \u001b[38;5;241m1000\u001b[39m \u001b[38;5;28;01melse\u001b[39;00m OperationalError\n\u001b[1;32m--> 150\u001b[0m \u001b[38;5;28;01mraise\u001b[39;00m errorclass(errno, errval)\n",
      "\u001b[1;31mIntegrityError\u001b[0m: (1062, \"Duplicate entry '1' for key 'customers.PRIMARY'\")"
     ]
    }
   ],
   "source": [
    "insert_query = \"\"\"\n",
    "    INSERT INTO customers (customer_id, name, email, phone, address, signup_date, is_premium, preferred_cuisine, total_orders, average_rating)\n",
    "    VALUES (%s, %s, %s, %s, %s, %s, %s, %s, %s, %s)\n",
    "\"\"\"\n",
    "for index, row in df1.iterrows():\n",
    "    mycursor.execute(insert_query,(\n",
    "        row['customer_id'],\n",
    "        row['name'],\n",
    "        row['email'],\n",
    "        row['phone'],\n",
    "        row['address'],\n",
    "        row['signup_date'],\n",
    "        row['is_premium'],\n",
    "        row['preferred_cuisine'],\n",
    "        row['total_orders'],\n",
    "        row['average_rating'],\n",
    "    \n",
    "        ))"
   ]
  },
  {
   "cell_type": "code",
   "execution_count": null,
   "metadata": {},
   "outputs": [],
   "source": [
    "insert_query = \"\"\"\n",
    "    INSERT INTO Restaurants (restaurant_id, name, cuisine_type, location, owner_name, average_delivery_time, contact_number, rating, total_orders, is_active)\n",
    "    VALUES (%s, %s, %s, %s, %s, %s, %s, %s, %s, %s)\n",
    "\"\"\"\n",
    "for index, row in df2.iterrows():\n",
    "    mycursor.execute(insert_query,(\n",
    "        row['restaurant_id'],\n",
    "        row['name'],\n",
    "        row['cuisine_type'],\n",
    "        row['location'],\n",
    "        row['owner_name'],\n",
    "        row['average_delivery_time'],\n",
    "        row['contact_number'],\n",
    "        row['rating'],\n",
    "        row['total_orders'],\n",
    "        row['is_active'],\n",
    "    \n",
    "        ))"
   ]
  },
  {
   "cell_type": "code",
   "execution_count": null,
   "metadata": {},
   "outputs": [],
   "source": [
    "print(df3.columns)"
   ]
  },
  {
   "cell_type": "code",
   "execution_count": null,
   "metadata": {},
   "outputs": [],
   "source": [
    "print(df3['order_id'].duplicated().sum()) \n",
    "\n",
    "print(df3[df3['order_id'].duplicated(keep=False)]) "
   ]
  },
  {
   "cell_type": "code",
   "execution_count": 40,
   "metadata": {},
   "outputs": [],
   "source": [
    "df3 = df3.drop_duplicates(subset='order_id')"
   ]
  },
  {
   "cell_type": "code",
   "execution_count": null,
   "metadata": {},
   "outputs": [],
   "source": [
    "print(df3.head())"
   ]
  },
  {
   "cell_type": "code",
   "execution_count": 15,
   "metadata": {},
   "outputs": [],
   "source": [
    "insert_query = \"\"\"\n",
    "    INSERT INTO orders (order_id, customer_id, restaurant_id, items, quantity, order_date, delivery_time, order_statuses, total_amount, payment_mode, discount_applied, feedback_rating)\n",
    "    VALUES (%s, %s, %s, %s, %s, %s, %s, %s, %s, %s, %s, %s)\n",
    "    \"\"\"\n",
    "for index, row in df3.iterrows():\n",
    "    mycursor.execute(insert_query,(\n",
    "        row['order_id'],\n",
    "        row['customer_id'],\n",
    "        row['restaurant_id'],\n",
    "        row['items'],\n",
    "        row['quantity'],\n",
    "        row['order_date'],\n",
    "        row['delivery_time'],\n",
    "        row['order_statuses'],\n",
    "        row['total_amount'],\n",
    "        row['payment_mode'],\n",
    "        row['discount_applied'],\n",
    "        row['feedback_rating'],\n",
    "\n",
    "        ))\n",
    "    \n"
   ]
  },
  {
   "cell_type": "code",
   "execution_count": null,
   "metadata": {},
   "outputs": [],
   "source": [
    "print(len(df4.columns))"
   ]
  },
  {
   "cell_type": "code",
   "execution_count": null,
   "metadata": {},
   "outputs": [],
   "source": [
    "insert_query = \"\"\"\n",
    "    INSERT INTO deliveries (delivery_id, order_id, delivery_person_id, delivery_status, distance, delivery_time, estimated_time, delivery_fee, vehicle_type)\n",
    "    VALUES (%s, %s, %s, %s, %s, %s, %s, %s, %s)\n",
    "    \"\"\"\n",
    "for index, row in df4.iterrows():\n",
    "    mycursor.execute(insert_query,(\n",
    "        row['delivery_id'],\n",
    "        row['order_id'],\n",
    "        row['delivery_person_id'],\n",
    "        row['delivery_status'],\n",
    "        row['distance'],\n",
    "        row['delivery_time'],\n",
    "        row['estimated_time'],\n",
    "        row['delivery_fee'],\n",
    "        row['vehicle_type']\n",
    "\n",
    "        ))\n",
    "    \n",
    "# Commit changes and close connection\n",
    "con.commit()\n",
    "mycursor.close()\n",
    "con.close()\n",
    "print(\"Data inserted successfully\")"
   ]
  },
  {
   "cell_type": "code",
   "execution_count": 10,
   "metadata": {},
   "outputs": [],
   "source": [
    "import pymysql"
   ]
  },
  {
   "cell_type": "code",
   "execution_count": 11,
   "metadata": {},
   "outputs": [],
   "source": [
    "class DatabaseOperator:\n",
    "    def __init__(self, host=\"localhost\", user=\"root\", password=\"123456789\", db_name=\"zomato_db\"):\n",
    "        self.host = host\n",
    "        self.user = user\n",
    "        self.password = password\n",
    "        self.db_name = db_name\n",
    "        \n",
    "\n",
    "    def connect(self):\n",
    "        return pymysql.connect(\n",
    "            host=self.host,\n",
    "            user=self.user,\n",
    "            password=self.password,\n",
    "            database=self.db_name,\n",
    "            cursorclass=pymysql.cursors.DictCursor\n",
    "        )\n",
    "        \n",
    "    def execute_query(self, query, params=None):\n",
    "        \"\"\"\n",
    "        Execute any SQL query with error handling and return the result.\n",
    "\n",
    "        Args:\n",
    "            query (str): The SQL query to execute.\n",
    "            params (tuple, optional): Parameters for parameterized queries.\n",
    "\n",
    "        Returns:\n",
    "            list: Query result as a list of dictionaries for SELECT queries.\n",
    "            bool: True if INSERT/UPDATE/DELETE is successful, False if an error occurs.\n",
    "        \"\"\"\n",
    "        connection = self.connect()\n",
    "        cursor = connection.cursor(pymysql.cursors.DictCursor)\n",
    "        \n",
    "        try:\n",
    "            # Execute with or without parameters\n",
    "            if params:\n",
    "                cursor.execute(query, params)\n",
    "            else:\n",
    "                cursor.execute(query)\n",
    "\n",
    "            # For SELECT queries, return fetched data\n",
    "            if query.strip().lower().startswith(\"select\"):\n",
    "                result = cursor.fetchall()\n",
    "                return result\n",
    "            else:\n",
    "                # For INSERT, UPDATE, DELETE, commit the transaction\n",
    "                connection.commit()\n",
    "                return True\n",
    "\n",
    "        except pymysql.MySQLError as sql_err:\n",
    "            print(f\"SQL Error: {sql_err}\")\n",
    "            return False\n",
    "\n",
    "        except Exception as e:\n",
    "            print(f\"Unexpected Error: {e}\")\n",
    "            return False\n",
    "\n",
    "        finally:\n",
    "            cursor.close()\n",
    "            connection.close()\n",
    "    \n",
    "\n",
    "    def create_customer(self, name, email, phone, address):\n",
    "        with self.connect() as conn:\n",
    "            with conn.cursor() as mycursor:\n",
    "                mycursor.execute(\"\"\"\n",
    "                    INSERT INTO customers (name, email, phone, address) \n",
    "                    VALUES (%s, %s, %s, %s)\n",
    "                \"\"\", (name, email, phone, address))\n",
    "                conn.commit()\n",
    "\n",
    "    def read_customers(self):\n",
    "        with self.connect() as conn:\n",
    "            with conn.cursor() as mycursor:\n",
    "                mycursor.execute(\"SELECT * FROM customers\")\n",
    "                return mycursor.fetchall()\n",
    "\n",
    "    def update_customer(self, customer_id, name, email):\n",
    "        with self.connect() as conn:\n",
    "            with conn.cursor() as mycursor:\n",
    "                if name:\n",
    "                    mycursor.execute(\"UPDATE customers SET name=%s WHERE customer_id=%s\", (name, customer_id))\n",
    "                if email:\n",
    "                    mycursor.execute(\"UPDATE customers SET email=%s WHERE customer_id=%s\", (email, customer_id))\n",
    "                conn.commit()\n",
    "\n",
    "    def delete_customer(self, customer_id):\n",
    "        with self.connect() as conn:\n",
    "            with conn.cursor() as mycursor:\n",
    "                mycursor.execute(\"DELETE FROM customers WHERE customer_id=%s\", (customer_id,))\n",
    "                conn.commit()\n",
    "\n",
    "    def alter_customer_table(self, new_column, data_type):\n",
    "        with self.connect() as conn:\n",
    "            with conn.cursor() as mycursor:\n",
    "                mycursor.execute(f\"ALTER TABLE customers ADD COLUMN {new_column} {data_type}\")\n",
    "                conn.commit()\n",
    "\n",
    "# Restaurants Table\n",
    "\n",
    "    def create_restaurant(self, name, location):\n",
    "        with self.connect() as conn:\n",
    "            with conn.cursor() as mycursor:\n",
    "                mycursor.execute(\"INSERT INTO restaurants (name, location) VALUES (%s, %s)\", (name, location))\n",
    "                conn.commit()\n",
    "\n",
    "    def read_restaurants(self):\n",
    "        with self.connect() as conn:\n",
    "            with conn.cursor() as mycursor:\n",
    "                mycursor.execute(\"SELECT * FROM restaurants\")\n",
    "                return mycursor.fetchall()\n",
    "\n",
    "    def update_restaurant(self, restaurant_id, name, location):\n",
    "        with self.connect() as conn:\n",
    "            with conn.cursor() as mycursor:\n",
    "                if name:\n",
    "                    mycursor.execute(\"UPDATE restaurants SET name=%s WHERE restaurant_id=%s\", (name, restaurant_id))\n",
    "                if location:\n",
    "                    mycursor.execute(\"UPDATE restaurants SET location=%s WHERE restaurant_id=%s\", (location, restaurant_id))\n",
    "                conn.commit()\n",
    "\n",
    "    def delete_restaurant(self, restaurant_id):\n",
    "        with self.connect() as conn:\n",
    "            with conn.cursor() as mycursor:\n",
    "                mycursor.execute(\"DELETE FROM restaurants WHERE restaurant_id=%s\", (restaurant_id,))\n",
    "                conn.commit()\n",
    "\n",
    "    def alter_restaurant_table(self, new_column, data_type):\n",
    "        with self.connect() as conn:\n",
    "            with conn.cursor() as mycursor:\n",
    "                mycursor.execute(f\"ALTER TABLE restaurants ADD COLUMN {new_column} {data_type}\")\n",
    "                conn.commit()\n",
    "                \n",
    "# Orders Table \n",
    "\n",
    "    def create_order(self, customer_id, restaurant_id, items, quantity):\n",
    "        with self.connect() as conn:\n",
    "            with conn.cursor() as mycursor:\n",
    "                mycursor.execute(\"\"\"\n",
    "                    INSERT INTO orders (customer_id, restaurant_id, items, quantity) \n",
    "                    VALUES (%s, %s, %s, %s)\n",
    "                \"\"\", (customer_id, restaurant_id, items, quantity))\n",
    "                conn.commit()\n",
    "\n",
    "    def read_orders(self):\n",
    "        with self.connect() as conn:\n",
    "            with conn.cursor() as mycursor:\n",
    "                mycursor.execute(\"SELECT * FROM orders\")\n",
    "                return mycursor.fetchall()\n",
    "\n",
    "    def update_order(self, order_id, items, quantity):\n",
    "        with self.connect() as conn:\n",
    "            with conn.cursor() as mycursor:\n",
    "                if items:\n",
    "                    mycursor.execute(\"UPDATE orders SET item=%s WHERE order_id=%s\", (items, order_id))\n",
    "                if quantity:\n",
    "                    mycursor.execute(\"UPDATE orders SET quantity=%s WHERE order_id=%s\", (quantity, order_id))\n",
    "                conn.commit()\n",
    "\n",
    "    def delete_order(self, order_id):\n",
    "        with self.connect() as conn:\n",
    "            with conn.cursor() as mycursor:\n",
    "                mycursor.execute(\"DELETE FROM orders WHERE order_id=%s\", (order_id,))\n",
    "                conn.commit()\n",
    "\n",
    "    def alter_order_table(self, new_column, data_type):\n",
    "        with self.connect() as conn:\n",
    "            with conn.cursor() as mycursor:\n",
    "                mycursor.execute(f\"ALTER TABLE orders ADD COLUMN {new_column} {data_type}\")\n",
    "                conn.commit()\n",
    "                \n",
    "# Deliveries Table \n",
    "\n",
    "    def create_delivery(self, order_id, delivery_status):\n",
    "        with self.connect() as conn:\n",
    "            with conn.cursor() as mycursor:\n",
    "                mycursor.execute(\"\"\"\n",
    "                    INSERT INTO deliveries (order_id, delivery_status) \n",
    "                    VALUES (%s, %s)\n",
    "                \"\"\", (order_id, delivery_status))\n",
    "                conn.commit()\n",
    "\n",
    "    def read_deliveries(self):\n",
    "        with self.connect() as conn:\n",
    "            with conn.cursor() as mycursor:\n",
    "                mycursor.execute(\"SELECT * FROM deliveries\")\n",
    "                return mycursor.fetchall()\n",
    "\n",
    "    def update_delivery(self, delivery_id, delivery_status):\n",
    "        with self.connect() as conn:\n",
    "            with conn.cursor() as mycursor:\n",
    "                mycursor.execute(\"UPDATE deliveries SET delivery_status=%s WHERE delivery_id=%s\", (delivery_status, delivery_id))\n",
    "                conn.commit()\n",
    "\n",
    "    def delete_delivery(self, delivery_id):\n",
    "        with self.connect() as conn:\n",
    "            with conn.cursor() as mycursor:\n",
    "                mycursor.execute(\"DELETE FROM deliveries WHERE delivery_id=%s\", (delivery_id,))\n",
    "                conn.commit()\n",
    "\n",
    "    def alter_delivery_table(self, new_column, data_type):\n",
    "        with self.connect() as conn:\n",
    "            with conn.cursor() as mycursor:\n",
    "                mycursor.execute(f\"ALTER TABLE deliveries ADD COLUMN {new_column} {data_type}\")\n",
    "                conn.commit()\n"
   ]
  },
  {
   "cell_type": "code",
   "execution_count": 12,
   "metadata": {},
   "outputs": [],
   "source": [
    "db = DatabaseOperator(user=\"root\", password=\"123456789\", db_name=\"zomato_db\")"
   ]
  },
  {
   "cell_type": "code",
   "execution_count": 13,
   "metadata": {},
   "outputs": [],
   "source": [
    "# Add a new customer\n",
    "\n",
    "db.create_customer(\"Ram\", \"alice@example.com\", \"1234567890\", \"123, Main Street\")"
   ]
  },
  {
   "cell_type": "code",
   "execution_count": 14,
   "metadata": {},
   "outputs": [
    {
     "name": "stdout",
     "output_type": "stream",
     "text": [
      "[{'customer_id': 1, 'name': 'Alice Wonderland', 'phone': '260.331.0778', 'email': 'alice@gmail.com', 'address': '35647 Smith Corner Suite 569\\nSouth Stephanieville, MD 07703', 'signup_date': datetime.date(2021, 6, 8), 'is_premium': 1, 'preferred_cuisine': 'Chinese', 'total_orders': 65, 'average_rating': Decimal('3.1'), 'loyalty_points': 0, 'Recipee': 0, 'Sweet': None, 'Amount': None}, {'customer_id': 2, 'name': 'Shannon Sanders', 'phone': '960-507-5941', 'email': 'sharon09@example.com', 'address': '637 Finley Cliffs\\nSouth Emily, NM 19536', 'signup_date': datetime.date(2020, 7, 25), 'is_premium': 0, 'preferred_cuisine': 'Chinese', 'total_orders': 60, 'average_rating': Decimal('1.7'), 'loyalty_points': 0, 'Recipee': 0, 'Sweet': None, 'Amount': None}, {'customer_id': 5, 'name': 'Barry Brady', 'phone': '(885)619-3227x3520', 'email': 'melissawilson@example.com', 'address': '1304 Juan Crescent Suite 716\\nElizabethport, CA 49436', 'signup_date': datetime.date(2020, 4, 24), 'is_premium': 1, 'preferred_cuisine': 'Japanese', 'total_orders': 16, 'average_rating': Decimal('3.8'), 'loyalty_points': 0, 'Recipee': 0, 'Sweet': None, 'Amount': None}, {'customer_id': 6, 'name': 'Kristen George', 'phone': '707-899-4652', 'email': 'zarellano@example.org', 'address': '7779 Garner Turnpike\\nEast Jamesmouth, CA 60314', 'signup_date': datetime.date(2024, 11, 22), 'is_premium': 1, 'preferred_cuisine': 'Chinese', 'total_orders': 76, 'average_rating': Decimal('3.9'), 'loyalty_points': 0, 'Recipee': 0, 'Sweet': None, 'Amount': None}, {'customer_id': 7, 'name': 'Lisa Reyes', 'phone': '001-645-710-6657', 'email': 'torreslori@example.net', 'address': '24732 Michelle Loop\\nSandrashire, HI 10265', 'signup_date': datetime.date(2020, 1, 13), 'is_premium': 1, 'preferred_cuisine': 'Chinese', 'total_orders': 99, 'average_rating': Decimal('4.1'), 'loyalty_points': 0, 'Recipee': 0, 'Sweet': None, 'Amount': None}, {'customer_id': 8, 'name': 'Natalie Marquez', 'phone': '513-870-9096x59929', 'email': 'qkirk@example.com', 'address': '79639 Tyler Haven Apt. 550\\nStanleyfort, AL 16695', 'signup_date': datetime.date(2022, 10, 26), 'is_premium': 1, 'preferred_cuisine': 'Mexican', 'total_orders': 4, 'average_rating': Decimal('3.3'), 'loyalty_points': 0, 'Recipee': 0, 'Sweet': None, 'Amount': None}, {'customer_id': 9, 'name': 'Jennifer Thomas', 'phone': '(977)762-8040x6217', 'email': 'nancyjoseph@example.com', 'address': '41105 Williams Shore\\nLake Rebecca, LA 99559', 'signup_date': datetime.date(2022, 10, 27), 'is_premium': 0, 'preferred_cuisine': 'Chinese', 'total_orders': 91, 'average_rating': Decimal('2.2'), 'loyalty_points': 0, 'Recipee': 0, 'Sweet': None, 'Amount': None}, {'customer_id': 10, 'name': 'Samantha Morgan', 'phone': '(780)691-9131x599', 'email': 'colemanlinda@example.org', 'address': '540 King Harbor Apt. 509\\nKellyville, CA 67905', 'signup_date': datetime.date(2020, 2, 12), 'is_premium': 1, 'preferred_cuisine': 'Japanese', 'total_orders': 79, 'average_rating': Decimal('4.8'), 'loyalty_points': 0, 'Recipee': 0, 'Sweet': None, 'Amount': None}, {'customer_id': 11, 'name': 'Nancy Edwards', 'phone': '+1-255-457-5124x375', 'email': 'edavis@example.org', 'address': '44474 Torres Extensions\\nNorth Scott, WV 24677', 'signup_date': datetime.date(2020, 11, 11), 'is_premium': 1, 'preferred_cuisine': 'Italian', 'total_orders': 24, 'average_rating': Decimal('2.7'), 'loyalty_points': 0, 'Recipee': 0, 'Sweet': None, 'Amount': None}, {'customer_id': 12, 'name': 'Rebecca Sexton', 'phone': '2952476776', 'email': 'fmartin@example.com', 'address': '6709 Morales Bridge\\nWest Paul, NJ 50409', 'signup_date': datetime.date(2024, 9, 24), 'is_premium': 1, 'preferred_cuisine': 'Mexican', 'total_orders': 61, 'average_rating': Decimal('1.4'), 'loyalty_points': 0, 'Recipee': 0, 'Sweet': None, 'Amount': None}, {'customer_id': 13, 'name': 'Ryan Harris', 'phone': '829.262.3564x535', 'email': 'jennifer68@example.com', 'address': '3739 Gallagher Stream\\nCarpenterville, NJ 66365', 'signup_date': datetime.date(2021, 2, 15), 'is_premium': 1, 'preferred_cuisine': 'Indian', 'total_orders': 18, 'average_rating': Decimal('2.2'), 'loyalty_points': 0, 'Recipee': 0, 'Sweet': None, 'Amount': None}, {'customer_id': 14, 'name': 'Timothy Rivera', 'phone': '752.284.4638x11576', 'email': 'stephanie90@example.org', 'address': '94704 Wilcox Drive\\nWest Kimberly, GA 89170', 'signup_date': datetime.date(2023, 9, 25), 'is_premium': 1, 'preferred_cuisine': 'Mexican', 'total_orders': 63, 'average_rating': Decimal('3.3'), 'loyalty_points': 0, 'Recipee': 0, 'Sweet': None, 'Amount': None}, {'customer_id': 15, 'name': 'Frank Pacheco', 'phone': '839.899.6131', 'email': 'johnbrooks@example.net', 'address': '68526 Amanda Inlet Suite 576\\nWest Christopher, VA 17397', 'signup_date': datetime.date(2020, 8, 15), 'is_premium': 1, 'preferred_cuisine': 'Indian', 'total_orders': 46, 'average_rating': Decimal('4.7'), 'loyalty_points': 0, 'Recipee': 0, 'Sweet': None, 'Amount': None}, {'customer_id': 16, 'name': 'Tony Fuller', 'phone': '419.288.4427x139', 'email': 'jessefisher@example.com', 'address': '14349 Woodward Estates\\nRobertchester, WY 40364', 'signup_date': datetime.date(2023, 4, 26), 'is_premium': 1, 'preferred_cuisine': 'Mexican', 'total_orders': 100, 'average_rating': Decimal('4.4'), 'loyalty_points': 0, 'Recipee': 0, 'Sweet': None, 'Amount': None}, {'customer_id': 17, 'name': 'Joshua Taylor', 'phone': '473-960-9319x385', 'email': 'wolfepatricia@example.org', 'address': '046 Justin Rue Apt. 438\\nLake Timothymouth, NM 15680', 'signup_date': datetime.date(2022, 4, 16), 'is_premium': 0, 'preferred_cuisine': 'Chinese', 'total_orders': 56, 'average_rating': Decimal('3.6'), 'loyalty_points': 0, 'Recipee': 0, 'Sweet': None, 'Amount': None}, {'customer_id': 18, 'name': 'Melissa Davis', 'phone': '+1-418-596-1321x374', 'email': 'holdenmichelle@example.com', 'address': '3225 Ryan Landing\\nReneemouth, WY 93417', 'signup_date': datetime.date(2024, 3, 25), 'is_premium': 0, 'preferred_cuisine': 'Mexican', 'total_orders': 84, 'average_rating': Decimal('4.3'), 'loyalty_points': 0, 'Recipee': 0, 'Sweet': None, 'Amount': None}, {'customer_id': 19, 'name': 'Anthony Velez', 'phone': '001-860-604-7915x89482', 'email': 'xhenry@example.org', 'address': '587 Thompson Shore Apt. 434\\nWest Travisborough, MS 05783', 'signup_date': datetime.date(2021, 11, 21), 'is_premium': 0, 'preferred_cuisine': 'Mexican', 'total_orders': 18, 'average_rating': Decimal('4.7'), 'loyalty_points': 0, 'Recipee': 0, 'Sweet': None, 'Amount': None}, {'customer_id': 20, 'name': 'Shannon Aguirre', 'phone': '001-753-770-8158x84830', 'email': 'iharris@example.org', 'address': '368 Brittany Trafficway\\nMillerville, MN 80742', 'signup_date': datetime.date(2021, 1, 5), 'is_premium': 0, 'preferred_cuisine': 'Italian', 'total_orders': 92, 'average_rating': Decimal('4.7'), 'loyalty_points': 0, 'Recipee': 0, 'Sweet': None, 'Amount': None}, {'customer_id': 21, 'name': 'Xavier Baker', 'phone': '001-562-527-7433x4085', 'email': 'laura01@example.com', 'address': '46872 Michael Corners\\nSouth Albertton, ND 37903', 'signup_date': datetime.date(2024, 11, 12), 'is_premium': 0, 'preferred_cuisine': 'Chinese', 'total_orders': 27, 'average_rating': Decimal('3.8'), 'loyalty_points': 0, 'Recipee': 0, 'Sweet': None, 'Amount': None}, {'customer_id': 22, 'name': 'Michelle Nichols', 'phone': '001-855-751-7807x85046', 'email': 'qsimmons@example.com', 'address': '3013 Gonzalez Via\\nNew Andrea, NY 71054', 'signup_date': datetime.date(2024, 10, 10), 'is_premium': 0, 'preferred_cuisine': 'Indian', 'total_orders': 28, 'average_rating': Decimal('4.7'), 'loyalty_points': 0, 'Recipee': 0, 'Sweet': None, 'Amount': None}, {'customer_id': 23, 'name': 'Angelica Flores', 'phone': '6339424378', 'email': 'taylorshawn@example.com', 'address': '9141 Mackenzie Trail\\nEarlview, ME 70198', 'signup_date': datetime.date(2021, 1, 28), 'is_premium': 1, 'preferred_cuisine': 'Mexican', 'total_orders': 89, 'average_rating': Decimal('3.6'), 'loyalty_points': 0, 'Recipee': 0, 'Sweet': None, 'Amount': None}, {'customer_id': 24, 'name': 'Christopher Perez', 'phone': '707-419-8974x700', 'email': 'pburgess@example.com', 'address': '0251 Smith Corners Suite 363\\nMariabury, MS 32952', 'signup_date': datetime.date(2022, 10, 24), 'is_premium': 0, 'preferred_cuisine': 'Chinese', 'total_orders': 91, 'average_rating': Decimal('2.6'), 'loyalty_points': 0, 'Recipee': 0, 'Sweet': None, 'Amount': None}, {'customer_id': 25, 'name': 'Stephanie Washington', 'phone': '(910)611-6831x6805', 'email': 'david01@example.net', 'address': '46788 Macdonald Spring Suite 407\\nLake Jay, ME 64658', 'signup_date': datetime.date(2023, 3, 12), 'is_premium': 1, 'preferred_cuisine': 'Mexican', 'total_orders': 48, 'average_rating': Decimal('5.0'), 'loyalty_points': 0, 'Recipee': 0, 'Sweet': None, 'Amount': None}, {'customer_id': 26, 'name': 'Catherine Holt', 'phone': '(522)904-7858x3747', 'email': 'jonathancoleman@example.net', 'address': '181 Ryan Camp Apt. 083\\nPort Susan, NJ 01332', 'signup_date': datetime.date(2021, 4, 12), 'is_premium': 1, 'preferred_cuisine': 'Indian', 'total_orders': 52, 'average_rating': Decimal('3.4'), 'loyalty_points': 0, 'Recipee': 0, 'Sweet': None, 'Amount': None}, {'customer_id': 27, 'name': 'Robert Garner', 'phone': '876-555-9469x550', 'email': 'katrina11@example.net', 'address': '6656 Timothy Gateway Apt. 437\\nShermanside, TX 89493', 'signup_date': datetime.date(2022, 11, 10), 'is_premium': 0, 'preferred_cuisine': 'Italian', 'total_orders': 87, 'average_rating': Decimal('2.3'), 'loyalty_points': 0, 'Recipee': 0, 'Sweet': None, 'Amount': None}, {'customer_id': 28, 'name': 'Jessica Munoz', 'phone': '995-250-7031x82913', 'email': 'joshuaestrada@example.com', 'address': '871 Brett Street\\nAustinmouth, CO 60558', 'signup_date': datetime.date(2024, 1, 1), 'is_premium': 1, 'preferred_cuisine': 'Indian', 'total_orders': 47, 'average_rating': Decimal('3.5'), 'loyalty_points': 0, 'Recipee': 0, 'Sweet': None, 'Amount': None}, {'customer_id': 29, 'name': 'James Stout', 'phone': '001-555-709-7803x16998', 'email': 'ebeck@example.com', 'address': '36537 Kyle Camp\\nLyonsstad, OH 98057', 'signup_date': datetime.date(2020, 2, 24), 'is_premium': 1, 'preferred_cuisine': 'Indian', 'total_orders': 67, 'average_rating': Decimal('1.2'), 'loyalty_points': 0, 'Recipee': 0, 'Sweet': None, 'Amount': None}, {'customer_id': 30, 'name': 'Renee Marquez', 'phone': '560-694-1434x538', 'email': 'rebekah01@example.org', 'address': '1460 Amy Mills\\nWest Tanya, MD 29888', 'signup_date': datetime.date(2021, 5, 14), 'is_premium': 0, 'preferred_cuisine': 'Japanese', 'total_orders': 32, 'average_rating': Decimal('1.2'), 'loyalty_points': 0, 'Recipee': 0, 'Sweet': None, 'Amount': None}, {'customer_id': 31, 'name': 'Kimberly Frazier', 'phone': '(348)342-2183', 'email': 'randerson@example.com', 'address': '7863 Johnson Circles\\nChambersside, KY 09018', 'signup_date': datetime.date(2024, 12, 13), 'is_premium': 1, 'preferred_cuisine': 'Chinese', 'total_orders': 13, 'average_rating': Decimal('3.7'), 'loyalty_points': 0, 'Recipee': 0, 'Sweet': None, 'Amount': None}, {'customer_id': 32, 'name': 'Kirsten Hopkins', 'phone': '578.897.0659x846', 'email': 'jameshancock@example.com', 'address': '450 Bender Haven\\nRicardobury, HI 67866', 'signup_date': datetime.date(2023, 7, 15), 'is_premium': 1, 'preferred_cuisine': 'Japanese', 'total_orders': 38, 'average_rating': Decimal('4.5'), 'loyalty_points': 0, 'Recipee': 0, 'Sweet': None, 'Amount': None}, {'customer_id': 33, 'name': 'Dalton Brown', 'phone': '+1-712-535-3668', 'email': 'lloydalexander@example.net', 'address': '305 Gonzalez Plain\\nPort Elizabeth, AK 11405', 'signup_date': datetime.date(2023, 12, 8), 'is_premium': 0, 'preferred_cuisine': 'Japanese', 'total_orders': 94, 'average_rating': Decimal('3.1'), 'loyalty_points': 0, 'Recipee': 0, 'Sweet': None, 'Amount': None}, {'customer_id': 34, 'name': 'Brittney Roberts', 'phone': '001-471-726-4506x24531', 'email': 'angela53@example.com', 'address': '57474 Maureen Land Apt. 150\\nNorth Timothy, MA 85932', 'signup_date': datetime.date(2024, 12, 23), 'is_premium': 0, 'preferred_cuisine': 'Italian', 'total_orders': 16, 'average_rating': Decimal('1.3'), 'loyalty_points': 0, 'Recipee': 0, 'Sweet': None, 'Amount': None}, {'customer_id': 35, 'name': 'Alyssa Silva', 'phone': '+1-306-461-7149', 'email': 'barrmelissa@example.net', 'address': 'USS Flowers\\nFPO AA 34530', 'signup_date': datetime.date(2020, 8, 18), 'is_premium': 0, 'preferred_cuisine': 'Japanese', 'total_orders': 93, 'average_rating': Decimal('2.1'), 'loyalty_points': 0, 'Recipee': 0, 'Sweet': None, 'Amount': None}, {'customer_id': 36, 'name': 'David Villarreal', 'phone': '243-253-8575x00785', 'email': 'michaelbond@example.net', 'address': '904 Soto Springs\\nSouth Jenniferfort, AL 33089', 'signup_date': datetime.date(2020, 4, 28), 'is_premium': 0, 'preferred_cuisine': 'Italian', 'total_orders': 69, 'average_rating': Decimal('3.8'), 'loyalty_points': 0, 'Recipee': 0, 'Sweet': None, 'Amount': None}, {'customer_id': 37, 'name': 'Andrew Rose', 'phone': '387.524.6955', 'email': 'alexander87@example.com', 'address': '0901 Taylor Lodge\\nLake Brandy, PW 83263', 'signup_date': datetime.date(2022, 4, 6), 'is_premium': 0, 'preferred_cuisine': 'Japanese', 'total_orders': 8, 'average_rating': Decimal('2.0'), 'loyalty_points': 0, 'Recipee': 0, 'Sweet': None, 'Amount': None}, {'customer_id': 38, 'name': 'Donna Miles', 'phone': '267.393.5725', 'email': 'theodore74@example.com', 'address': 'PSC 6804, Box 2391\\nAPO AA 57890', 'signup_date': datetime.date(2020, 11, 20), 'is_premium': 0, 'preferred_cuisine': 'Chinese', 'total_orders': 59, 'average_rating': Decimal('2.2'), 'loyalty_points': 0, 'Recipee': 0, 'Sweet': None, 'Amount': None}, {'customer_id': 39, 'name': 'Thomas Watts', 'phone': '518-339-4621x973', 'email': 'yvette13@example.com', 'address': '588 Karen Avenue\\nSouth Brettstad, NM 56924', 'signup_date': datetime.date(2025, 1, 10), 'is_premium': 1, 'preferred_cuisine': 'Italian', 'total_orders': 51, 'average_rating': Decimal('2.6'), 'loyalty_points': 0, 'Recipee': 0, 'Sweet': None, 'Amount': None}, {'customer_id': 40, 'name': 'Ruben Sanders', 'phone': '001-651-212-4836', 'email': 'loriperez@example.com', 'address': '760 Rodriguez Street Apt. 571\\nLake Jacob, NM 25876', 'signup_date': datetime.date(2021, 4, 17), 'is_premium': 1, 'preferred_cuisine': 'Mexican', 'total_orders': 24, 'average_rating': Decimal('4.0'), 'loyalty_points': 0, 'Recipee': 0, 'Sweet': None, 'Amount': None}, {'customer_id': 41, 'name': 'Paul Lewis DVM', 'phone': '+1-710-959-8612x39190', 'email': 'williamaustin@example.net', 'address': '5030 Armstrong Ranch Apt. 427\\nMatthewfort, GA 07075', 'signup_date': datetime.date(2021, 2, 1), 'is_premium': 1, 'preferred_cuisine': 'Italian', 'total_orders': 13, 'average_rating': Decimal('3.4'), 'loyalty_points': 0, 'Recipee': 0, 'Sweet': None, 'Amount': None}, {'customer_id': 42, 'name': 'Brandon Bright', 'phone': '001-993-904-6917', 'email': 'jacqueline08@example.com', 'address': 'PSC 2357, Box 8157\\nAPO AA 80730', 'signup_date': datetime.date(2021, 11, 21), 'is_premium': 0, 'preferred_cuisine': 'Indian', 'total_orders': 91, 'average_rating': Decimal('1.7'), 'loyalty_points': 0, 'Recipee': 0, 'Sweet': None, 'Amount': None}, {'customer_id': 43, 'name': 'Elizabeth Thompson PhD', 'phone': '(845)892-8495', 'email': 'juan78@example.com', 'address': '2264 Smith Cape\\nWolfeberg, ND 95366', 'signup_date': datetime.date(2020, 10, 13), 'is_premium': 1, 'preferred_cuisine': 'Indian', 'total_orders': 93, 'average_rating': Decimal('2.8'), 'loyalty_points': 0, 'Recipee': 0, 'Sweet': None, 'Amount': None}, {'customer_id': 44, 'name': 'Nicholas Gomez', 'phone': '484.211.5579x8344', 'email': 'elizabeth33@example.net', 'address': '5820 Melinda Village Suite 739\\nLake Joshuastad, MP 51318', 'signup_date': datetime.date(2021, 11, 27), 'is_premium': 1, 'preferred_cuisine': 'Mexican', 'total_orders': 57, 'average_rating': Decimal('3.2'), 'loyalty_points': 0, 'Recipee': 0, 'Sweet': None, 'Amount': None}, {'customer_id': 45, 'name': 'Kenneth Cantrell', 'phone': '(442)368-2200x9559', 'email': 'shannonbrown@example.net', 'address': '0742 Williams Plains\\nNorth Ernestton, MN 22862', 'signup_date': datetime.date(2020, 7, 31), 'is_premium': 1, 'preferred_cuisine': 'Chinese', 'total_orders': 14, 'average_rating': Decimal('4.1'), 'loyalty_points': 0, 'Recipee': 0, 'Sweet': None, 'Amount': None}, {'customer_id': 46, 'name': 'Marcia Fuller', 'phone': '704.445.4214x1338', 'email': 'karen20@example.org', 'address': '3092 Rodriguez Motorway\\nWest Briannaton, AL 28400', 'signup_date': datetime.date(2020, 5, 9), 'is_premium': 0, 'preferred_cuisine': 'Chinese', 'total_orders': 95, 'average_rating': Decimal('4.2'), 'loyalty_points': 0, 'Recipee': 0, 'Sweet': None, 'Amount': None}, {'customer_id': 47, 'name': 'Bradley Clark', 'phone': '262-278-1792', 'email': 'jessica09@example.org', 'address': '1741 Trevor Spurs Apt. 283\\nWilliamschester, CA 45568', 'signup_date': datetime.date(2023, 11, 26), 'is_premium': 0, 'preferred_cuisine': 'Chinese', 'total_orders': 41, 'average_rating': Decimal('2.4'), 'loyalty_points': 0, 'Recipee': 0, 'Sweet': None, 'Amount': None}, {'customer_id': 48, 'name': 'Amy Sanchez', 'phone': '(246)560-0894', 'email': 'danielmills@example.com', 'address': '9338 Luke Lock Apt. 457\\nNorth Jeanette, IA 86574', 'signup_date': datetime.date(2021, 12, 30), 'is_premium': 0, 'preferred_cuisine': 'Japanese', 'total_orders': 61, 'average_rating': Decimal('3.9'), 'loyalty_points': 0, 'Recipee': 0, 'Sweet': None, 'Amount': None}, {'customer_id': 49, 'name': 'Adam Rodgers', 'phone': '446-802-4528', 'email': 'anthonyparks@example.com', 'address': '102 Susan Hollow\\nBryanshire, AS 15630', 'signup_date': datetime.date(2023, 7, 17), 'is_premium': 0, 'preferred_cuisine': 'Italian', 'total_orders': 18, 'average_rating': Decimal('3.3'), 'loyalty_points': 0, 'Recipee': 0, 'Sweet': None, 'Amount': None}, {'customer_id': 50, 'name': 'Mackenzie Johnson', 'phone': '(830)821-7818x6893', 'email': 'russellbennett@example.net', 'address': '784 Warner Crescent\\nLake Julia, MI 80065', 'signup_date': datetime.date(2024, 7, 27), 'is_premium': 1, 'preferred_cuisine': 'Japanese', 'total_orders': 8, 'average_rating': Decimal('1.4'), 'loyalty_points': 0, 'Recipee': 0, 'Sweet': None, 'Amount': None}, {'customer_id': 51, 'name': 'Heather Hensley', 'phone': '379.296.7687', 'email': 'angela21@example.com', 'address': '5864 Wolf Plaza Apt. 261\\nWest Brandonside, NY 11930', 'signup_date': datetime.date(2020, 7, 14), 'is_premium': 1, 'preferred_cuisine': 'Mexican', 'total_orders': 96, 'average_rating': Decimal('4.3'), 'loyalty_points': 0, 'Recipee': 0, 'Sweet': None, 'Amount': None}, {'customer_id': 52, 'name': 'Lisa Kelley', 'phone': '873-317-7617x1937', 'email': 'bradley64@example.net', 'address': '2860 Holder Expressway Apt. 249\\nNew Joseph, WV 11928', 'signup_date': datetime.date(2021, 8, 9), 'is_premium': 0, 'preferred_cuisine': 'Mexican', 'total_orders': 100, 'average_rating': Decimal('2.7'), 'loyalty_points': 0, 'Recipee': 0, 'Sweet': None, 'Amount': None}, {'customer_id': 53, 'name': 'William Mathis', 'phone': '2633663926', 'email': 'arthur59@example.com', 'address': '8842 Alexandra Run\\nNew Daniel, FM 92567', 'signup_date': datetime.date(2020, 11, 13), 'is_premium': 1, 'preferred_cuisine': 'Japanese', 'total_orders': 73, 'average_rating': Decimal('3.8'), 'loyalty_points': 0, 'Recipee': 0, 'Sweet': None, 'Amount': None}, {'customer_id': 54, 'name': 'Sandra Young', 'phone': '547.562.3108x785', 'email': 'vincentcassandra@example.com', 'address': '314 Daniel Inlet Suite 777\\nPort Robinview, PA 87773', 'signup_date': datetime.date(2024, 10, 8), 'is_premium': 1, 'preferred_cuisine': 'Mexican', 'total_orders': 77, 'average_rating': Decimal('3.1'), 'loyalty_points': 0, 'Recipee': 0, 'Sweet': None, 'Amount': None}, {'customer_id': 55, 'name': 'Joe Sanchez', 'phone': '3892427680', 'email': 'coryandrews@example.net', 'address': '1802 Peterson Groves\\nNew Kathleenmouth, ME 19726', 'signup_date': datetime.date(2024, 3, 8), 'is_premium': 1, 'preferred_cuisine': 'Indian', 'total_orders': 51, 'average_rating': Decimal('1.4'), 'loyalty_points': 0, 'Recipee': 0, 'Sweet': None, 'Amount': None}, {'customer_id': 56, 'name': 'Amanda Lane', 'phone': '001-687-927-8683x84286', 'email': 'ariddle@example.org', 'address': '759 Sharon Junction\\nJohnstonview, MS 59817', 'signup_date': datetime.date(2020, 4, 14), 'is_premium': 0, 'preferred_cuisine': 'Indian', 'total_orders': 48, 'average_rating': Decimal('2.6'), 'loyalty_points': 0, 'Recipee': 0, 'Sweet': None, 'Amount': None}, {'customer_id': 57, 'name': 'James Schaefer', 'phone': '617.228.4552', 'email': 'umarshall@example.net', 'address': '87581 Matthew Corner Suite 512\\nWilliamsside, CA 68676', 'signup_date': datetime.date(2024, 8, 7), 'is_premium': 0, 'preferred_cuisine': 'Japanese', 'total_orders': 15, 'average_rating': Decimal('3.4'), 'loyalty_points': 0, 'Recipee': 0, 'Sweet': None, 'Amount': None}, {'customer_id': 58, 'name': 'Bradley Martin', 'phone': '6432646703', 'email': 'ctate@example.org', 'address': '114 Hunter Road\\nEast Kimberly, NJ 28438', 'signup_date': datetime.date(2022, 8, 26), 'is_premium': 0, 'preferred_cuisine': 'Japanese', 'total_orders': 36, 'average_rating': Decimal('4.2'), 'loyalty_points': 0, 'Recipee': 0, 'Sweet': None, 'Amount': None}, {'customer_id': 59, 'name': 'Alec Chapman', 'phone': '(432)815-4711x63620', 'email': 'patrickedward@example.com', 'address': '20962 Nguyen Fork\\nPort Megan, UT 38862', 'signup_date': datetime.date(2023, 7, 30), 'is_premium': 1, 'preferred_cuisine': 'Chinese', 'total_orders': 96, 'average_rating': Decimal('4.8'), 'loyalty_points': 0, 'Recipee': 0, 'Sweet': None, 'Amount': None}, {'customer_id': 60, 'name': 'Devin Nash', 'phone': '729.752.8329x8651', 'email': 'meganramsey@example.org', 'address': '2718 Smith Avenue Apt. 875\\nThomasmouth, IA 87797', 'signup_date': datetime.date(2024, 7, 20), 'is_premium': 0, 'preferred_cuisine': 'Indian', 'total_orders': 11, 'average_rating': Decimal('4.4'), 'loyalty_points': 0, 'Recipee': 0, 'Sweet': None, 'Amount': None}, {'customer_id': 61, 'name': 'Carolyn Cannon', 'phone': '885.230.1494x71146', 'email': 'michael60@example.com', 'address': '818 Cole Mill Suite 302\\nPhillipsview, AK 26519', 'signup_date': datetime.date(2024, 7, 19), 'is_premium': 0, 'preferred_cuisine': 'Mexican', 'total_orders': 66, 'average_rating': Decimal('2.2'), 'loyalty_points': 0, 'Recipee': 0, 'Sweet': None, 'Amount': None}, {'customer_id': 62, 'name': 'Mr. Shawn Boyd', 'phone': '(253)329-2500x618', 'email': 'kevinbrown@example.net', 'address': '60279 Richards Lock\\nRobinsonfort, FL 55355', 'signup_date': datetime.date(2022, 11, 26), 'is_premium': 0, 'preferred_cuisine': 'Indian', 'total_orders': 85, 'average_rating': Decimal('2.8'), 'loyalty_points': 0, 'Recipee': 0, 'Sweet': None, 'Amount': None}, {'customer_id': 63, 'name': 'Clarence Cowan', 'phone': '492-922-9483', 'email': 'ramirezmatthew@example.org', 'address': '519 Vicki Forest\\nEast Jamesmouth, AS 41950', 'signup_date': datetime.date(2021, 3, 13), 'is_premium': 0, 'preferred_cuisine': 'Chinese', 'total_orders': 70, 'average_rating': Decimal('5.0'), 'loyalty_points': 0, 'Recipee': 0, 'Sweet': None, 'Amount': None}, {'customer_id': 64, 'name': 'Hannah Edwards', 'phone': '478-856-1290x32709', 'email': 'xavier31@example.com', 'address': '334 Smith Fields Apt. 219\\nEast Tamara, FL 11593', 'signup_date': datetime.date(2022, 1, 17), 'is_premium': 1, 'preferred_cuisine': 'Chinese', 'total_orders': 33, 'average_rating': Decimal('2.2'), 'loyalty_points': 0, 'Recipee': 0, 'Sweet': None, 'Amount': None}, {'customer_id': 65, 'name': 'Duane Morrison', 'phone': '+1-900-332-8878', 'email': 'xcontreras@example.com', 'address': '87360 Salinas Villages Apt. 968\\nThompsonberg, ME 80595', 'signup_date': datetime.date(2022, 5, 8), 'is_premium': 1, 'preferred_cuisine': 'Japanese', 'total_orders': 91, 'average_rating': Decimal('2.4'), 'loyalty_points': 0, 'Recipee': 0, 'Sweet': None, 'Amount': None}, {'customer_id': 66, 'name': 'Benjamin Hernandez', 'phone': '805-927-0131', 'email': 'jessica18@example.org', 'address': 'USS Richards\\nFPO AE 44096', 'signup_date': datetime.date(2021, 10, 28), 'is_premium': 0, 'preferred_cuisine': 'Chinese', 'total_orders': 76, 'average_rating': Decimal('1.9'), 'loyalty_points': 0, 'Recipee': 0, 'Sweet': None, 'Amount': None}, {'customer_id': 67, 'name': 'Mary Cisneros', 'phone': '001-207-372-1667x7746', 'email': 'josephwallace@example.com', 'address': '70523 Olivia Ridges Apt. 556\\nNew Donaldview, CO 33670', 'signup_date': datetime.date(2020, 6, 28), 'is_premium': 1, 'preferred_cuisine': 'Chinese', 'total_orders': 25, 'average_rating': Decimal('2.9'), 'loyalty_points': 0, 'Recipee': 0, 'Sweet': None, 'Amount': None}, {'customer_id': 68, 'name': 'Alexa Guerrero', 'phone': '(225)804-5753x69471', 'email': 'normafigueroa@example.com', 'address': '4964 Simpson Greens Suite 686\\nLake Juan, PA 95228', 'signup_date': datetime.date(2020, 2, 3), 'is_premium': 1, 'preferred_cuisine': 'Chinese', 'total_orders': 28, 'average_rating': Decimal('1.6'), 'loyalty_points': 0, 'Recipee': 0, 'Sweet': None, 'Amount': None}, {'customer_id': 69, 'name': 'Daniel Bailey', 'phone': '8245827483', 'email': 'johnmartinez@example.com', 'address': '029 Michele Stravenue\\nSouth Stephenland, MA 06061', 'signup_date': datetime.date(2023, 10, 18), 'is_premium': 1, 'preferred_cuisine': 'Indian', 'total_orders': 3, 'average_rating': Decimal('4.1'), 'loyalty_points': 0, 'Recipee': 0, 'Sweet': None, 'Amount': None}, {'customer_id': 70, 'name': 'Taylor Dunn', 'phone': '(522)275-8339x934', 'email': 'callen@example.com', 'address': '41237 Rhonda Course Suite 532\\nCandiceberg, OK 02403', 'signup_date': datetime.date(2022, 7, 31), 'is_premium': 1, 'preferred_cuisine': 'Chinese', 'total_orders': 57, 'average_rating': Decimal('1.5'), 'loyalty_points': 0, 'Recipee': 0, 'Sweet': None, 'Amount': None}, {'customer_id': 71, 'name': 'Ronald Harris', 'phone': '315-264-0663x0465', 'email': 'christopher84@example.net', 'address': '057 Jennifer Crossing Suite 932\\nCampbellville, GA 41692', 'signup_date': datetime.date(2022, 1, 11), 'is_premium': 0, 'preferred_cuisine': 'Chinese', 'total_orders': 13, 'average_rating': Decimal('1.1'), 'loyalty_points': 0, 'Recipee': 0, 'Sweet': None, 'Amount': None}, {'customer_id': 72, 'name': 'William Garrison', 'phone': '5423225711', 'email': 'aguirredaniel@example.org', 'address': '270 Adam Point\\nLake Kimberly, AZ 97729', 'signup_date': datetime.date(2023, 6, 18), 'is_premium': 0, 'preferred_cuisine': 'Mexican', 'total_orders': 6, 'average_rating': Decimal('4.1'), 'loyalty_points': 0, 'Recipee': 0, 'Sweet': None, 'Amount': None}, {'customer_id': 73, 'name': 'Anthony Taylor', 'phone': '001-337-577-5205', 'email': 'baileymichelle@example.net', 'address': 'USCGC Moore\\nFPO AA 27727', 'signup_date': datetime.date(2020, 6, 27), 'is_premium': 1, 'preferred_cuisine': 'Japanese', 'total_orders': 52, 'average_rating': Decimal('3.7'), 'loyalty_points': 0, 'Recipee': 0, 'Sweet': None, 'Amount': None}, {'customer_id': 74, 'name': 'Paul Williams', 'phone': '+1-585-882-5684x5700', 'email': 'rwright@example.com', 'address': '7836 Cochran Divide\\nStewartbury, WV 30489', 'signup_date': datetime.date(2024, 10, 25), 'is_premium': 1, 'preferred_cuisine': 'Mexican', 'total_orders': 77, 'average_rating': Decimal('1.5'), 'loyalty_points': 0, 'Recipee': 0, 'Sweet': None, 'Amount': None}, {'customer_id': 75, 'name': 'Don Mills', 'phone': '(538)299-3976', 'email': 'xlopez@example.org', 'address': 'Unit 8721 Box 9684\\nDPO AA 28212', 'signup_date': datetime.date(2023, 8, 29), 'is_premium': 0, 'preferred_cuisine': 'Indian', 'total_orders': 7, 'average_rating': Decimal('2.0'), 'loyalty_points': 0, 'Recipee': 0, 'Sweet': None, 'Amount': None}, {'customer_id': 76, 'name': 'Dr. Zachary Mack MD', 'phone': '+1-739-354-5166x57306', 'email': 'phillipsmitchell@example.com', 'address': '3577 Harper Glen\\nAmyborough, NV 60119', 'signup_date': datetime.date(2022, 7, 20), 'is_premium': 1, 'preferred_cuisine': 'Italian', 'total_orders': 49, 'average_rating': Decimal('1.6'), 'loyalty_points': 0, 'Recipee': 0, 'Sweet': None, 'Amount': None}, {'customer_id': 77, 'name': 'Jennifer Burton', 'phone': '202-965-5958', 'email': 'carsondwayne@example.org', 'address': '4635 Baker Loop Suite 754\\nHicksborough, ND 21612', 'signup_date': datetime.date(2021, 4, 10), 'is_premium': 0, 'preferred_cuisine': 'Indian', 'total_orders': 92, 'average_rating': Decimal('3.9'), 'loyalty_points': 0, 'Recipee': 0, 'Sweet': None, 'Amount': None}, {'customer_id': 78, 'name': 'Dominic Mullins', 'phone': '+1-649-785-8504x79521', 'email': 'destiny72@example.com', 'address': '862 Coleman Shore\\nNew Ryanfurt, AR 47604', 'signup_date': datetime.date(2024, 7, 16), 'is_premium': 1, 'preferred_cuisine': 'Japanese', 'total_orders': 14, 'average_rating': Decimal('3.5'), 'loyalty_points': 0, 'Recipee': 0, 'Sweet': None, 'Amount': None}, {'customer_id': 79, 'name': 'Tyler Bautista', 'phone': '367-966-0309x347', 'email': 'websterkelly@example.net', 'address': '4046 Collier Port Apt. 717\\nNorth Kenneth, MT 13388', 'signup_date': datetime.date(2020, 6, 28), 'is_premium': 0, 'preferred_cuisine': 'Japanese', 'total_orders': 90, 'average_rating': Decimal('2.1'), 'loyalty_points': 0, 'Recipee': 0, 'Sweet': None, 'Amount': None}, {'customer_id': 80, 'name': 'Mackenzie Bishop', 'phone': '001-260-684-9866x37500', 'email': 'lindseywest@example.org', 'address': '458 Brett Port\\nSouth Cameronfort, KS 53869', 'signup_date': datetime.date(2023, 6, 22), 'is_premium': 0, 'preferred_cuisine': 'Indian', 'total_orders': 48, 'average_rating': Decimal('1.9'), 'loyalty_points': 0, 'Recipee': 0, 'Sweet': None, 'Amount': None}, {'customer_id': 81, 'name': 'Paul Jackson', 'phone': '2263354380', 'email': 'newtonjames@example.com', 'address': '335 Weber Run\\nPaulburgh, KY 39575', 'signup_date': datetime.date(2020, 3, 23), 'is_premium': 1, 'preferred_cuisine': 'Mexican', 'total_orders': 30, 'average_rating': Decimal('4.2'), 'loyalty_points': 0, 'Recipee': 0, 'Sweet': None, 'Amount': None}, {'customer_id': 82, 'name': 'Kristen King', 'phone': '001-648-551-8608', 'email': 'coreystewart@example.com', 'address': '20834 Foster Valleys\\nTrevormouth, PA 62191', 'signup_date': datetime.date(2022, 12, 30), 'is_premium': 1, 'preferred_cuisine': 'Mexican', 'total_orders': 35, 'average_rating': Decimal('4.7'), 'loyalty_points': 0, 'Recipee': 0, 'Sweet': None, 'Amount': None}, {'customer_id': 83, 'name': 'Joel Richardson', 'phone': '(804)358-8337x4715', 'email': 'sextondavid@example.org', 'address': '17697 Alexandra Crest\\nNew Alexis, NY 12972', 'signup_date': datetime.date(2023, 7, 15), 'is_premium': 1, 'preferred_cuisine': 'Italian', 'total_orders': 14, 'average_rating': Decimal('4.8'), 'loyalty_points': 0, 'Recipee': 0, 'Sweet': None, 'Amount': None}, {'customer_id': 84, 'name': 'David Campbell', 'phone': '770-726-2579x52567', 'email': 'jonestravis@example.com', 'address': '30899 Shirley Heights Suite 252\\nBrendaville, MP 39324', 'signup_date': datetime.date(2020, 11, 8), 'is_premium': 0, 'preferred_cuisine': 'Japanese', 'total_orders': 8, 'average_rating': Decimal('4.9'), 'loyalty_points': 0, 'Recipee': 0, 'Sweet': None, 'Amount': None}, {'customer_id': 85, 'name': 'Christine Newman', 'phone': '(900)778-7938', 'email': 'jennifer54@example.com', 'address': '251 Lee Roads\\nPort Barryton, WA 31732', 'signup_date': datetime.date(2023, 2, 27), 'is_premium': 1, 'preferred_cuisine': 'Japanese', 'total_orders': 22, 'average_rating': Decimal('4.4'), 'loyalty_points': 0, 'Recipee': 0, 'Sweet': None, 'Amount': None}, {'customer_id': 86, 'name': 'Felicia Shepard', 'phone': '001-984-489-5683x97750', 'email': 'christopher23@example.org', 'address': '339 Daniel Meadow Suite 133\\nLake Catherine, WV 83647', 'signup_date': datetime.date(2023, 7, 19), 'is_premium': 1, 'preferred_cuisine': 'Italian', 'total_orders': 71, 'average_rating': Decimal('1.3'), 'loyalty_points': 0, 'Recipee': 0, 'Sweet': None, 'Amount': None}, {'customer_id': 87, 'name': 'Tyler Johnson', 'phone': '3827338909', 'email': 'vhayes@example.net', 'address': '3126 Jennifer Cliff Apt. 852\\nKristinton, CO 11428', 'signup_date': datetime.date(2021, 2, 17), 'is_premium': 1, 'preferred_cuisine': 'Chinese', 'total_orders': 60, 'average_rating': Decimal('3.6'), 'loyalty_points': 0, 'Recipee': 0, 'Sweet': None, 'Amount': None}, {'customer_id': 88, 'name': 'Tracey Williamson', 'phone': '+1-353-533-8739x7845', 'email': 'ismith@example.net', 'address': '0686 Williams Walk Suite 704\\nCannonshire, IA 30587', 'signup_date': datetime.date(2020, 11, 2), 'is_premium': 0, 'preferred_cuisine': 'Japanese', 'total_orders': 38, 'average_rating': Decimal('4.8'), 'loyalty_points': 0, 'Recipee': 0, 'Sweet': None, 'Amount': None}, {'customer_id': 89, 'name': 'Angel Summers', 'phone': '4828837378', 'email': 'annelittle@example.com', 'address': '19247 Joann Estates\\nSheltonburgh, IA 45452', 'signup_date': datetime.date(2023, 6, 6), 'is_premium': 1, 'preferred_cuisine': 'Indian', 'total_orders': 76, 'average_rating': Decimal('4.4'), 'loyalty_points': 0, 'Recipee': 0, 'Sweet': None, 'Amount': None}, {'customer_id': 90, 'name': 'Richard Rich', 'phone': '354.559.1624x8286', 'email': 'ryantucker@example.org', 'address': '321 Morgan Estate Suite 973\\nWest Sharon, PR 60529', 'signup_date': datetime.date(2024, 9, 5), 'is_premium': 0, 'preferred_cuisine': 'Japanese', 'total_orders': 63, 'average_rating': Decimal('4.8'), 'loyalty_points': 0, 'Recipee': 0, 'Sweet': None, 'Amount': None}, {'customer_id': 91, 'name': 'Mario Adams', 'phone': '+1-952-357-9040x913', 'email': 'anna25@example.org', 'address': '042 Joshua Viaduct\\nJeffreytown, MO 85203', 'signup_date': datetime.date(2024, 8, 23), 'is_premium': 1, 'preferred_cuisine': 'Chinese', 'total_orders': 2, 'average_rating': Decimal('2.3'), 'loyalty_points': 0, 'Recipee': 0, 'Sweet': None, 'Amount': None}, {'customer_id': 92, 'name': 'Megan Howell', 'phone': '(997)789-8584x5212', 'email': 'sheena25@example.com', 'address': '822 Megan Squares\\nAllenchester, VI 68562', 'signup_date': datetime.date(2020, 10, 17), 'is_premium': 0, 'preferred_cuisine': 'Mexican', 'total_orders': 68, 'average_rating': Decimal('3.4'), 'loyalty_points': 0, 'Recipee': 0, 'Sweet': None, 'Amount': None}, {'customer_id': 93, 'name': 'Martin Bryant', 'phone': '(549)379-8487', 'email': 'natashapayne@example.net', 'address': '028 Barton Points\\nRobinsonview, OR 41718', 'signup_date': datetime.date(2020, 10, 2), 'is_premium': 1, 'preferred_cuisine': 'Mexican', 'total_orders': 54, 'average_rating': Decimal('3.1'), 'loyalty_points': 0, 'Recipee': 0, 'Sweet': None, 'Amount': None}, {'customer_id': 94, 'name': 'Brian Davis', 'phone': '+1-768-343-4648x00374', 'email': 'freid@example.org', 'address': '07682 Jason Flats Suite 620\\nSouth Deborah, UT 63087', 'signup_date': datetime.date(2024, 8, 17), 'is_premium': 1, 'preferred_cuisine': 'Mexican', 'total_orders': 75, 'average_rating': Decimal('3.4'), 'loyalty_points': 0, 'Recipee': 0, 'Sweet': None, 'Amount': None}, {'customer_id': 95, 'name': 'Juan Miller', 'phone': '295.920.3556x778', 'email': 'wangdiana@example.org', 'address': '6037 Alexis Flat Apt. 065\\nSouth Jasonborough, WV 02969', 'signup_date': datetime.date(2022, 4, 18), 'is_premium': 1, 'preferred_cuisine': 'Mexican', 'total_orders': 1, 'average_rating': Decimal('4.0'), 'loyalty_points': 0, 'Recipee': 0, 'Sweet': None, 'Amount': None}, {'customer_id': 96, 'name': 'Patrick Avila', 'phone': '+1-902-735-2855x419', 'email': 'sarah60@example.net', 'address': '64883 Cline Rapid Apt. 857\\nJavierfurt, DC 80588', 'signup_date': datetime.date(2022, 11, 3), 'is_premium': 1, 'preferred_cuisine': 'Indian', 'total_orders': 40, 'average_rating': Decimal('1.3'), 'loyalty_points': 0, 'Recipee': 0, 'Sweet': None, 'Amount': None}, {'customer_id': 97, 'name': 'Terry White', 'phone': '001-443-641-6430', 'email': 'salazartimothy@example.net', 'address': '729 Michael Manor Apt. 191\\nLake Seanville, WI 21402', 'signup_date': datetime.date(2021, 12, 2), 'is_premium': 0, 'preferred_cuisine': 'Japanese', 'total_orders': 16, 'average_rating': Decimal('1.9'), 'loyalty_points': 0, 'Recipee': 0, 'Sweet': None, 'Amount': None}, {'customer_id': 98, 'name': 'Alexandra Hull', 'phone': '995.482.8429', 'email': 'samanthale@example.com', 'address': '346 Andrea Freeway Suite 667\\nAmyview, TX 74027', 'signup_date': datetime.date(2022, 3, 14), 'is_premium': 0, 'preferred_cuisine': 'Indian', 'total_orders': 43, 'average_rating': Decimal('3.1'), 'loyalty_points': 0, 'Recipee': 0, 'Sweet': None, 'Amount': None}, {'customer_id': 101, 'name': 'Alice', 'phone': '1234567890', 'email': 'alice@example.com', 'address': '123, Main Street', 'signup_date': None, 'is_premium': None, 'preferred_cuisine': None, 'total_orders': None, 'average_rating': None, 'loyalty_points': 0, 'Recipee': 0, 'Sweet': None, 'Amount': None}, {'customer_id': 102, 'name': 'Alice', 'phone': '1234567890', 'email': 'alice@example.com', 'address': '123, Main Street', 'signup_date': None, 'is_premium': None, 'preferred_cuisine': None, 'total_orders': None, 'average_rating': None, 'loyalty_points': 0, 'Recipee': 0, 'Sweet': None, 'Amount': None}, {'customer_id': 103, 'name': 'Ram', 'phone': '1234567890', 'email': 'alice@example.com', 'address': '123, Main Street', 'signup_date': None, 'is_premium': None, 'preferred_cuisine': None, 'total_orders': None, 'average_rating': None, 'loyalty_points': 0, 'Recipee': 0, 'Sweet': None, 'Amount': None}, {'customer_id': 104, 'name': 'Saravanan', 'phone': '9698435408', 'email': '', 'address': '', 'signup_date': None, 'is_premium': None, 'preferred_cuisine': None, 'total_orders': None, 'average_rating': None, 'loyalty_points': 0, 'Recipee': 0, 'Sweet': None, 'Amount': None}, {'customer_id': 105, 'name': 'Dev', 'phone': '9698435408', 'email': 'Dev@gmail.com', 'address': '', 'signup_date': None, 'is_premium': None, 'preferred_cuisine': None, 'total_orders': None, 'average_rating': None, 'loyalty_points': 0, 'Recipee': 0, 'Sweet': None, 'Amount': None}, {'customer_id': 106, 'name': 'Ram', 'phone': '1234567890', 'email': 'alice@example.com', 'address': '123, Main Street', 'signup_date': None, 'is_premium': None, 'preferred_cuisine': None, 'total_orders': None, 'average_rating': None, 'loyalty_points': 0, 'Recipee': 0, 'Sweet': None, 'Amount': None}, {'customer_id': 107, 'name': 'Ram', 'phone': '1234567890', 'email': 'alice@example.com', 'address': '123, Main Street', 'signup_date': None, 'is_premium': None, 'preferred_cuisine': None, 'total_orders': None, 'average_rating': None, 'loyalty_points': 0, 'Recipee': 0, 'Sweet': None, 'Amount': None}, {'customer_id': 108, 'name': 'Mani Kandan', 'phone': '6381288068', 'email': 'Mani@gmail.com', 'address': 'Keelapudhur', 'signup_date': None, 'is_premium': None, 'preferred_cuisine': None, 'total_orders': None, 'average_rating': None, 'loyalty_points': 0, 'Recipee': 0, 'Sweet': None, 'Amount': None}, {'customer_id': 109, 'name': 'Ram', 'phone': '1234567890', 'email': 'alice@example.com', 'address': '123, Main Street', 'signup_date': None, 'is_premium': None, 'preferred_cuisine': None, 'total_orders': None, 'average_rating': None, 'loyalty_points': 0, 'Recipee': 0, 'Sweet': None, 'Amount': None}]\n"
     ]
    }
   ],
   "source": [
    "# Read all customers\n",
    "\n",
    "print(db.read_customers())"
   ]
  },
  {
   "cell_type": "code",
   "execution_count": 15,
   "metadata": {},
   "outputs": [],
   "source": [
    "# Update a customer's name\n",
    "\n",
    "db.update_customer(1, name=\"Alice Wonderland\", email=\"alice@gmail.com\")"
   ]
  },
  {
   "cell_type": "code",
   "execution_count": 10,
   "metadata": {},
   "outputs": [],
   "source": [
    "# Delete a customer\n",
    "\n",
    "db.delete_customer(3)"
   ]
  },
  {
   "cell_type": "code",
   "execution_count": null,
   "metadata": {},
   "outputs": [],
   "source": [
    "# Add a new column to customers table\n",
    "\n",
    "db.alter_customer_table(\"Recipee\", \"INT DEFAULT 0\")"
   ]
  }
 ],
 "metadata": {
  "kernelspec": {
   "display_name": "Python 3",
   "language": "python",
   "name": "python3"
  },
  "language_info": {
   "codemirror_mode": {
    "name": "ipython",
    "version": 3
   },
   "file_extension": ".py",
   "mimetype": "text/x-python",
   "name": "python",
   "nbconvert_exporter": "python",
   "pygments_lexer": "ipython3",
   "version": "3.11.5"
  }
 },
 "nbformat": 4,
 "nbformat_minor": 2
}
