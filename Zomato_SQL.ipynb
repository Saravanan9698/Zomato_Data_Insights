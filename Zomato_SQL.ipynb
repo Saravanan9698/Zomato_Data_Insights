{
 "cells": [
  {
   "cell_type": "code",
   "execution_count": null,
   "metadata": {},
   "outputs": [],
   "source": [
    "import pymysql\n",
    "con= pymysql.connect(\n",
    "    host=\"localhost\",\n",
    "    user=\"root\",\n",
    "    password=\"123456789\",\n",
    "    autocommit=True\n",
    "    )\n",
    "print(con)"
   ]
  },
  {
   "cell_type": "code",
   "execution_count": 2,
   "metadata": {},
   "outputs": [],
   "source": [
    "# Read the CSV files into pandas dataframes\n",
    "\n",
    "import pandas as pd\n",
    "\n",
    "df1 = pd.read_csv('customers.csv')\n",
    "df2 = pd.read_csv('restaurants.csv')\n",
    "df3 = pd.read_csv('orders.csv')\n",
    "df4 = pd.read_csv('deliveries.csv')"
   ]
  },
  {
   "cell_type": "code",
   "execution_count": 3,
   "metadata": {},
   "outputs": [],
   "source": [
    "mycursor = con.cursor()"
   ]
  },
  {
   "cell_type": "code",
   "execution_count": null,
   "metadata": {},
   "outputs": [],
   "source": [
    "print(df1.columns)"
   ]
  },
  {
   "cell_type": "code",
   "execution_count": null,
   "metadata": {},
   "outputs": [],
   "source": [
    "print(len(df1.columns))"
   ]
  },
  {
   "cell_type": "code",
   "execution_count": null,
   "metadata": {},
   "outputs": [],
   "source": [
    "print(df2.columns)"
   ]
  },
  {
   "cell_type": "code",
   "execution_count": null,
   "metadata": {},
   "outputs": [],
   "source": [
    "print(len(df2.columns))"
   ]
  },
  {
   "cell_type": "code",
   "execution_count": null,
   "metadata": {},
   "outputs": [],
   "source": [
    "mycursor.execute(\"USE ZOMATO_DB\")"
   ]
  },
  {
   "cell_type": "code",
   "execution_count": null,
   "metadata": {},
   "outputs": [],
   "source": [
    "insert_query = \"\"\"\n",
    "    INSERT INTO customers (customer_id, name, email, phone, address, signup_date, is_premium, preferred_cuisine, total_orders, average_rating)\n",
    "    VALUES (%s, %s, %s, %s, %s, %s, %s, %s, %s, %s)\n",
    "\"\"\"\n",
    "for index, row in df1.iterrows():\n",
    "    mycursor.execute(insert_query,(\n",
    "        row['customer_id'],\n",
    "        row['name'],\n",
    "        row['email'],\n",
    "        row['phone'],\n",
    "        row['address'],\n",
    "        row['signup_date'],\n",
    "        row['is_premium'],\n",
    "        row['preferred_cuisine'],\n",
    "        row['total_orders'],\n",
    "        row['average_rating'],\n",
    "    \n",
    "        ))"
   ]
  },
  {
   "cell_type": "code",
   "execution_count": null,
   "metadata": {},
   "outputs": [],
   "source": [
    "insert_query = \"\"\"\n",
    "    INSERT INTO Restaurants (restaurant_id, name, cuisine_type, location, owner_name, average_delivery_time, contact_number, rating, total_orders, is_active)\n",
    "    VALUES (%s, %s, %s, %s, %s, %s, %s, %s, %s, %s)\n",
    "\"\"\"\n",
    "for index, row in df2.iterrows():\n",
    "    mycursor.execute(insert_query,(\n",
    "        row['restaurant_id'],\n",
    "        row['name'],\n",
    "        row['cuisine_type'],\n",
    "        row['location'],\n",
    "        row['owner_name'],\n",
    "        row['average_delivery_time'],\n",
    "        row['contact_number'],\n",
    "        row['rating'],\n",
    "        row['total_orders'],\n",
    "        row['is_active'],\n",
    "    \n",
    "        ))"
   ]
  },
  {
   "cell_type": "code",
   "execution_count": null,
   "metadata": {},
   "outputs": [],
   "source": [
    "print(df3.columns)"
   ]
  },
  {
   "cell_type": "code",
   "execution_count": null,
   "metadata": {},
   "outputs": [],
   "source": [
    "print(df3['order_id'].duplicated().sum()) \n",
    "\n",
    "print(df3[df3['order_id'].duplicated(keep=False)]) "
   ]
  },
  {
   "cell_type": "code",
   "execution_count": 40,
   "metadata": {},
   "outputs": [],
   "source": [
    "df3 = df3.drop_duplicates(subset='order_id')"
   ]
  },
  {
   "cell_type": "code",
   "execution_count": null,
   "metadata": {},
   "outputs": [],
   "source": [
    "print(df3.head())"
   ]
  },
  {
   "cell_type": "code",
   "execution_count": 15,
   "metadata": {},
   "outputs": [],
   "source": [
    "insert_query = \"\"\"\n",
    "    INSERT INTO orders (order_id, customer_id, restaurant_id, items, quantity, order_date, delivery_time, order_statuses, total_amount, payment_mode, discount_applied, feedback_rating)\n",
    "    VALUES (%s, %s, %s, %s, %s, %s, %s, %s, %s, %s, %s, %s)\n",
    "    \"\"\"\n",
    "for index, row in df3.iterrows():\n",
    "    mycursor.execute(insert_query,(\n",
    "        row['order_id'],\n",
    "        row['customer_id'],\n",
    "        row['restaurant_id'],\n",
    "        row['items'],\n",
    "        row['quantity'],\n",
    "        row['order_date'],\n",
    "        row['delivery_time'],\n",
    "        row['order_statuses'],\n",
    "        row['total_amount'],\n",
    "        row['payment_mode'],\n",
    "        row['discount_applied'],\n",
    "        row['feedback_rating'],\n",
    "\n",
    "        ))\n",
    "    \n"
   ]
  },
  {
   "cell_type": "code",
   "execution_count": null,
   "metadata": {},
   "outputs": [],
   "source": [
    "print(len(df4.columns))"
   ]
  },
  {
   "cell_type": "code",
   "execution_count": null,
   "metadata": {},
   "outputs": [],
   "source": [
    "insert_query = \"\"\"\n",
    "    INSERT INTO deliveries (delivery_id, order_id, delivery_person_id, delivery_status, distance, delivery_time, estimated_time, delivery_fee, vehicle_type)\n",
    "    VALUES (%s, %s, %s, %s, %s, %s, %s, %s, %s)\n",
    "    \"\"\"\n",
    "for index, row in df4.iterrows():\n",
    "    mycursor.execute(insert_query,(\n",
    "        row['delivery_id'],\n",
    "        row['order_id'],\n",
    "        row['delivery_person_id'],\n",
    "        row['delivery_status'],\n",
    "        row['distance'],\n",
    "        row['delivery_time'],\n",
    "        row['estimated_time'],\n",
    "        row['delivery_fee'],\n",
    "        row['vehicle_type']\n",
    "\n",
    "        ))\n",
    "    \n",
    "# Commit changes and close connection\n",
    "con.commit()\n",
    "mycursor.close()\n",
    "con.close()\n",
    "print(\"Data inserted successfully\")"
   ]
  },
  {
   "cell_type": "code",
   "execution_count": 17,
   "metadata": {},
   "outputs": [],
   "source": [
    "import pymysql"
   ]
  },
  {
   "cell_type": "code",
   "execution_count": 5,
   "metadata": {},
   "outputs": [],
   "source": [
    "class DatabaseOperator:\n",
    "    def __init__(self, host=\"localhost\", user=\"root\", password=\"123456789\", db_name=\"zomato_db\"):\n",
    "        self.host = host\n",
    "        self.user = user\n",
    "        self.password = password\n",
    "        self.db_name = db_name\n",
    "        \n",
    "\n",
    "    def connect(self):\n",
    "        return pymysql.connect(\n",
    "            host=self.host,\n",
    "            user=self.user,\n",
    "            password=self.password,\n",
    "            database=self.db_name,\n",
    "            cursorclass=pymysql.cursors.DictCursor\n",
    "        )\n",
    "        \n",
    "    def execute_query(self, query, params=None):\n",
    "        \"\"\"\n",
    "        Execute any SQL query with error handling and return the result.\n",
    "\n",
    "        Args:\n",
    "            query (str): The SQL query to execute.\n",
    "            params (tuple, optional): Parameters for parameterized queries.\n",
    "\n",
    "        Returns:\n",
    "            list: Query result as a list of dictionaries for SELECT queries.\n",
    "            bool: True if INSERT/UPDATE/DELETE is successful, False if an error occurs.\n",
    "        \"\"\"\n",
    "        connection = self.connect()\n",
    "        cursor = connection.cursor(pymysql.cursors.DictCursor)\n",
    "        \n",
    "        try:\n",
    "            # Execute with or without parameters\n",
    "            if params:\n",
    "                cursor.execute(query, params)\n",
    "            else:\n",
    "                cursor.execute(query)\n",
    "\n",
    "            # For SELECT queries, return fetched data\n",
    "            if query.strip().lower().startswith(\"select\"):\n",
    "                result = cursor.fetchall()\n",
    "                return result\n",
    "            else:\n",
    "                # For INSERT, UPDATE, DELETE, commit the transaction\n",
    "                connection.commit()\n",
    "                return True\n",
    "\n",
    "        except pymysql.MySQLError as sql_err:\n",
    "            print(f\"SQL Error: {sql_err}\")\n",
    "            return False\n",
    "\n",
    "        except Exception as e:\n",
    "            print(f\"Unexpected Error: {e}\")\n",
    "            return False\n",
    "\n",
    "        finally:\n",
    "            cursor.close()\n",
    "            connection.close()\n",
    "    \n",
    "# # Query Execution Function\n",
    "#     def run_query(query):\n",
    "#         conn = create_connection()\n",
    "#         df = pd.read_sql(query, conn)\n",
    "#         conn.close()\n",
    "#         return df\n",
    "            \n",
    "# Customers Table\n",
    "    def create_customer(self, name, email, phone, address):\n",
    "        with self.connect() as conn:\n",
    "            with conn.cursor() as mycursor:\n",
    "                mycursor.execute(\"\"\"\n",
    "                    INSERT INTO customers (name, email, phone, address) \n",
    "                    VALUES (%s, %s, %s, %s)\n",
    "                \"\"\", (name, email, phone, address))\n",
    "                conn.commit()\n",
    "\n",
    "    def read_customers(self):\n",
    "        with self.connect() as conn:\n",
    "            with conn.cursor() as mycursor:\n",
    "                mycursor.execute(\"SELECT * FROM customers\")\n",
    "                return mycursor.fetchall()\n",
    "\n",
    "    def update_customer(self, customer_id, name, email):\n",
    "        with self.connect() as conn:\n",
    "            with conn.cursor() as mycursor:\n",
    "                if name:\n",
    "                    mycursor.execute(\"UPDATE customers SET name=%s WHERE customer_id=%s\", (name, customer_id))\n",
    "                if email:\n",
    "                    mycursor.execute(\"UPDATE customers SET email=%s WHERE customer_id=%s\", (email, customer_id))\n",
    "                conn.commit()\n",
    "\n",
    "    def delete_customer(self, customer_id):\n",
    "        with self.connect() as conn:\n",
    "            with conn.cursor() as mycursor:\n",
    "                mycursor.execute(\"DELETE FROM customers WHERE customer_id=%s\", (customer_id,))\n",
    "                conn.commit()\n",
    "\n",
    "    def alter_customer_table(self, new_column, data_type):\n",
    "        with self.connect() as conn:\n",
    "            with conn.cursor() as mycursor:\n",
    "                mycursor.execute(f\"ALTER TABLE customers ADD COLUMN {new_column} {data_type}\")\n",
    "                conn.commit()\n",
    "\n",
    "# Restaurants Table\n",
    "\n",
    "    def create_restaurant(self, name, location):\n",
    "        with self.connect() as conn:\n",
    "            with conn.cursor() as mycursor:\n",
    "                mycursor.execute(\"INSERT INTO restaurants (name, location) VALUES (%s, %s)\", (name, location))\n",
    "                conn.commit()\n",
    "\n",
    "    def read_restaurants(self):\n",
    "        with self.connect() as conn:\n",
    "            with conn.cursor() as mycursor:\n",
    "                mycursor.execute(\"SELECT * FROM restaurants\")\n",
    "                return mycursor.fetchall()\n",
    "\n",
    "    def update_restaurant(self, restaurant_id, name, location):\n",
    "        with self.connect() as conn:\n",
    "            with conn.cursor() as mycursor:\n",
    "                if name:\n",
    "                    mycursor.execute(\"UPDATE restaurants SET name=%s WHERE restaurant_id=%s\", (name, restaurant_id))\n",
    "                if location:\n",
    "                    mycursor.execute(\"UPDATE restaurants SET location=%s WHERE restaurant_id=%s\", (location, restaurant_id))\n",
    "                conn.commit()\n",
    "\n",
    "    def delete_restaurant(self, restaurant_id):\n",
    "        with self.connect() as conn:\n",
    "            with conn.cursor() as mycursor:\n",
    "                mycursor.execute(\"DELETE FROM restaurants WHERE restaurant_id=%s\", (restaurant_id,))\n",
    "                conn.commit()\n",
    "\n",
    "    def alter_restaurant_table(self, new_column, data_type):\n",
    "        with self.connect() as conn:\n",
    "            with conn.cursor() as mycursor:\n",
    "                mycursor.execute(f\"ALTER TABLE restaurants ADD COLUMN {new_column} {data_type}\")\n",
    "                conn.commit()\n",
    "                \n",
    "# Orders Table \n",
    "\n",
    "    def create_order(self, customer_id, restaurant_id, items, quantity):\n",
    "        with self.connect() as conn:\n",
    "            with conn.cursor() as mycursor:\n",
    "                mycursor.execute(\"\"\"\n",
    "                    INSERT INTO orders (customer_id, restaurant_id, items, quantity) \n",
    "                    VALUES (%s, %s, %s, %s)\n",
    "                \"\"\", (customer_id, restaurant_id, items, quantity))\n",
    "                conn.commit()\n",
    "\n",
    "    def read_orders(self):\n",
    "        with self.connect() as conn:\n",
    "            with conn.cursor() as mycursor:\n",
    "                mycursor.execute(\"SELECT * FROM orders\")\n",
    "                return mycursor.fetchall()\n",
    "\n",
    "    def update_order(self, order_id, items, quantity):\n",
    "        with self.connect() as conn:\n",
    "            with conn.cursor() as mycursor:\n",
    "                if items:\n",
    "                    mycursor.execute(\"UPDATE orders SET item=%s WHERE order_id=%s\", (items, order_id))\n",
    "                if quantity:\n",
    "                    mycursor.execute(\"UPDATE orders SET quantity=%s WHERE order_id=%s\", (quantity, order_id))\n",
    "                conn.commit()\n",
    "\n",
    "    def delete_order(self, order_id):\n",
    "        with self.connect() as conn:\n",
    "            with conn.cursor() as mycursor:\n",
    "                mycursor.execute(\"DELETE FROM orders WHERE order_id=%s\", (order_id,))\n",
    "                conn.commit()\n",
    "\n",
    "    def alter_order_table(self, new_column, data_type):\n",
    "        with self.connect() as conn:\n",
    "            with conn.cursor() as mycursor:\n",
    "                mycursor.execute(f\"ALTER TABLE orders ADD COLUMN {new_column} {data_type}\")\n",
    "                conn.commit()\n",
    "                \n",
    "# Deliveries Table \n",
    "\n",
    "    def create_delivery(self, order_id, delivery_status):\n",
    "        with self.connect() as conn:\n",
    "            with conn.cursor() as mycursor:\n",
    "                mycursor.execute(\"\"\"\n",
    "                    INSERT INTO deliveries (order_id, delivery_status) \n",
    "                    VALUES (%s, %s)\n",
    "                \"\"\", (order_id, delivery_status))\n",
    "                conn.commit()\n",
    "\n",
    "    def read_deliveries(self):\n",
    "        with self.connect() as conn:\n",
    "            with conn.cursor() as mycursor:\n",
    "                mycursor.execute(\"SELECT * FROM deliveries\")\n",
    "                return mycursor.fetchall()\n",
    "\n",
    "    def update_delivery(self, delivery_id, delivery_status):\n",
    "        with self.connect() as conn:\n",
    "            with conn.cursor() as mycursor:\n",
    "                mycursor.execute(\"UPDATE deliveries SET delivery_status=%s WHERE delivery_id=%s\", (delivery_status, delivery_id))\n",
    "                conn.commit()\n",
    "\n",
    "    def delete_delivery(self, delivery_id):\n",
    "        with self.connect() as conn:\n",
    "            with conn.cursor() as mycursor:\n",
    "                mycursor.execute(\"DELETE FROM deliveries WHERE delivery_id=%s\", (delivery_id,))\n",
    "                conn.commit()\n",
    "\n",
    "    def alter_delivery_table(self, new_column, data_type):\n",
    "        with self.connect() as conn:\n",
    "            with conn.cursor() as mycursor:\n",
    "                mycursor.execute(f\"ALTER TABLE deliveries ADD COLUMN {new_column} {data_type}\")\n",
    "                conn.commit()\n"
   ]
  },
  {
   "cell_type": "code",
   "execution_count": 6,
   "metadata": {},
   "outputs": [],
   "source": [
    "db = DatabaseOperator(user=\"root\", password=\"123456789\", db_name=\"zomato_db\")"
   ]
  },
  {
   "cell_type": "code",
   "execution_count": 7,
   "metadata": {},
   "outputs": [],
   "source": [
    "# Add a new customer\n",
    "\n",
    "db.create_customer(\"Ram\", \"alice@example.com\", \"1234567890\", \"123, Main Street\")"
   ]
  },
  {
   "cell_type": "code",
   "execution_count": null,
   "metadata": {},
   "outputs": [],
   "source": [
    "# Read all customers\n",
    "\n",
    "print(db.read_customers())"
   ]
  },
  {
   "cell_type": "code",
   "execution_count": 9,
   "metadata": {},
   "outputs": [],
   "source": [
    "# Update a customer's name\n",
    "\n",
    "db.update_customer(1, name=\"Alice Wonderland\", email=\"alice@gmail.com\")"
   ]
  },
  {
   "cell_type": "code",
   "execution_count": 10,
   "metadata": {},
   "outputs": [],
   "source": [
    "# Delete a customer\n",
    "\n",
    "db.delete_customer(3)"
   ]
  },
  {
   "cell_type": "code",
   "execution_count": null,
   "metadata": {},
   "outputs": [],
   "source": [
    "# Add a new column to customers table\n",
    "\n",
    "db.alter_customer_table(\"Recipee\", \"INT DEFAULT 0\")"
   ]
  }
 ],
 "metadata": {
  "kernelspec": {
   "display_name": "Python 3",
   "language": "python",
   "name": "python3"
  },
  "language_info": {
   "codemirror_mode": {
    "name": "ipython",
    "version": 3
   },
   "file_extension": ".py",
   "mimetype": "text/x-python",
   "name": "python",
   "nbconvert_exporter": "python",
   "pygments_lexer": "ipython3",
   "version": "3.11.5"
  }
 },
 "nbformat": 4,
 "nbformat_minor": 2
}
